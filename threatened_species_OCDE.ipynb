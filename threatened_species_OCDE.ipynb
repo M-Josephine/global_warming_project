{
  "nbformat": 4,
  "nbformat_minor": 0,
  "metadata": {
    "colab": {
      "name": "threatened_species_OCDE.ipynb",
      "provenance": []
    },
    "kernelspec": {
      "name": "python3",
      "display_name": "Python 3"
    }
  },
  "cells": [
    {
      "cell_type": "markdown",
      "metadata": {
        "id": "kkLwO-ozCIA1"
      },
      "source": [
        "# **SOURCES**\n",
        "\n",
        "Dataset:\n",
        "https://www.oecd-ilibrary.org/environment/data/oecd-environment-statistics/threatened-species_data-00605-en\n",
        "\n",
        "Barplot:\n",
        "https://python-graph-gallery.com/11-grouped-barplot/"
      ]
    },
    {
      "cell_type": "markdown",
      "metadata": {
        "id": "tLknt_FzCWxd"
      },
      "source": [
        "# **EXPLORATION / NETTOYAGE DES DONNEES**"
      ]
    },
    {
      "cell_type": "code",
      "metadata": {
        "id": "j7NqEWaXvQ9Y"
      },
      "source": [
        "import pandas as pd\n",
        "import numpy as np\n",
        "import matplotlib.pyplot as plt\n",
        "import seaborn as sns\n",
        "import plotly.express as px\n"
      ],
      "execution_count": 1,
      "outputs": []
    },
    {
      "cell_type": "code",
      "metadata": {
        "id": "LEzSOLRHBgr5",
        "outputId": "3d79d6bd-16ca-4afe-b25d-77f1f4e83e97",
        "colab": {
          "resources": {
            "http://localhost:8080/nbextensions/google.colab/files.js": {
              "data": "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",
              "ok": true,
              "headers": [
                [
                  "content-type",
                  "application/javascript"
                ]
              ],
              "status": 200,
              "status_text": ""
            }
          },
          "base_uri": "https://localhost:8080/",
          "height": 73
        }
      },
      "source": [
        "from google.colab import files\n",
        "data_to_load = files.upload()"
      ],
      "execution_count": 2,
      "outputs": [
        {
          "output_type": "display_data",
          "data": {
            "text/html": [
              "\n",
              "     <input type=\"file\" id=\"files-fb39d1f7-46c4-4e5b-aa36-f222615b0d64\" name=\"files[]\" multiple disabled\n",
              "        style=\"border:none\" />\n",
              "     <output id=\"result-fb39d1f7-46c4-4e5b-aa36-f222615b0d64\">\n",
              "      Upload widget is only available when the cell has been executed in the\n",
              "      current browser session. Please rerun this cell to enable.\n",
              "      </output>\n",
              "      <script src=\"/nbextensions/google.colab/files.js\"></script> "
            ],
            "text/plain": [
              "<IPython.core.display.HTML object>"
            ]
          },
          "metadata": {
            "tags": []
          }
        },
        {
          "output_type": "stream",
          "text": [
            "Saving WILD_LIFE_22102020174026486.csv to WILD_LIFE_22102020174026486.csv\n"
          ],
          "name": "stdout"
        }
      ]
    },
    {
      "cell_type": "code",
      "metadata": {
        "id": "-ZSoYWI-B-Ir",
        "outputId": "2c6f0902-a0de-468f-bff7-19d518dd4be3",
        "colab": {
          "base_uri": "https://localhost:8080/",
          "height": 198
        }
      },
      "source": [
        "import io\n",
        "df = pd.read_csv(io.BytesIO(data_to_load['WILD_LIFE_22102020174026486.csv']))\n",
        "df.head()"
      ],
      "execution_count": 3,
      "outputs": [
        {
          "output_type": "execute_result",
          "data": {
            "text/html": [
              "<div>\n",
              "<style scoped>\n",
              "    .dataframe tbody tr th:only-of-type {\n",
              "        vertical-align: middle;\n",
              "    }\n",
              "\n",
              "    .dataframe tbody tr th {\n",
              "        vertical-align: top;\n",
              "    }\n",
              "\n",
              "    .dataframe thead th {\n",
              "        text-align: right;\n",
              "    }\n",
              "</style>\n",
              "<table border=\"1\" class=\"dataframe\">\n",
              "  <thead>\n",
              "    <tr style=\"text-align: right;\">\n",
              "      <th></th>\n",
              "      <th>IUCN</th>\n",
              "      <th>IUCN Category</th>\n",
              "      <th>SPEC</th>\n",
              "      <th>Species</th>\n",
              "      <th>COU</th>\n",
              "      <th>Country</th>\n",
              "      <th>Unit Code</th>\n",
              "      <th>Unit</th>\n",
              "      <th>PowerCode Code</th>\n",
              "      <th>PowerCode</th>\n",
              "      <th>Reference Period Code</th>\n",
              "      <th>Reference Period</th>\n",
              "      <th>Value</th>\n",
              "      <th>Flag Codes</th>\n",
              "      <th>Flags</th>\n",
              "    </tr>\n",
              "  </thead>\n",
              "  <tbody>\n",
              "    <tr>\n",
              "      <th>0</th>\n",
              "      <td>TOT_KNOWN</td>\n",
              "      <td>Total number of known species</td>\n",
              "      <td>MAMMAL</td>\n",
              "      <td>Mammals</td>\n",
              "      <td>AUS</td>\n",
              "      <td>Australia</td>\n",
              "      <td>NBR</td>\n",
              "      <td>Number</td>\n",
              "      <td>0</td>\n",
              "      <td>Units</td>\n",
              "      <td>NaN</td>\n",
              "      <td>NaN</td>\n",
              "      <td>374.0</td>\n",
              "      <td>NaN</td>\n",
              "      <td>NaN</td>\n",
              "    </tr>\n",
              "    <tr>\n",
              "      <th>1</th>\n",
              "      <td>TOT_KNOWN_IND</td>\n",
              "      <td>Total number of indigenous known species</td>\n",
              "      <td>MAMMAL</td>\n",
              "      <td>Mammals</td>\n",
              "      <td>AUS</td>\n",
              "      <td>Australia</td>\n",
              "      <td>NBR</td>\n",
              "      <td>Number</td>\n",
              "      <td>0</td>\n",
              "      <td>Units</td>\n",
              "      <td>NaN</td>\n",
              "      <td>NaN</td>\n",
              "      <td>348.0</td>\n",
              "      <td>NaN</td>\n",
              "      <td>NaN</td>\n",
              "    </tr>\n",
              "    <tr>\n",
              "      <th>2</th>\n",
              "      <td>ENDANGERED</td>\n",
              "      <td>Number of endangered species</td>\n",
              "      <td>MAMMAL</td>\n",
              "      <td>Mammals</td>\n",
              "      <td>AUS</td>\n",
              "      <td>Australia</td>\n",
              "      <td>NBR</td>\n",
              "      <td>Number</td>\n",
              "      <td>0</td>\n",
              "      <td>Units</td>\n",
              "      <td>NaN</td>\n",
              "      <td>NaN</td>\n",
              "      <td>37.0</td>\n",
              "      <td>NaN</td>\n",
              "      <td>NaN</td>\n",
              "    </tr>\n",
              "    <tr>\n",
              "      <th>3</th>\n",
              "      <td>CRITICAL</td>\n",
              "      <td>Number of critically endangered species</td>\n",
              "      <td>MAMMAL</td>\n",
              "      <td>Mammals</td>\n",
              "      <td>AUS</td>\n",
              "      <td>Australia</td>\n",
              "      <td>NBR</td>\n",
              "      <td>Number</td>\n",
              "      <td>0</td>\n",
              "      <td>Units</td>\n",
              "      <td>NaN</td>\n",
              "      <td>NaN</td>\n",
              "      <td>10.0</td>\n",
              "      <td>NaN</td>\n",
              "      <td>NaN</td>\n",
              "    </tr>\n",
              "    <tr>\n",
              "      <th>4</th>\n",
              "      <td>VULNERABLE</td>\n",
              "      <td>Number of vulnerable species</td>\n",
              "      <td>MAMMAL</td>\n",
              "      <td>Mammals</td>\n",
              "      <td>AUS</td>\n",
              "      <td>Australia</td>\n",
              "      <td>NBR</td>\n",
              "      <td>Number</td>\n",
              "      <td>0</td>\n",
              "      <td>Units</td>\n",
              "      <td>NaN</td>\n",
              "      <td>NaN</td>\n",
              "      <td>60.0</td>\n",
              "      <td>NaN</td>\n",
              "      <td>NaN</td>\n",
              "    </tr>\n",
              "  </tbody>\n",
              "</table>\n",
              "</div>"
            ],
            "text/plain": [
              "            IUCN                             IUCN Category  ... Flag Codes Flags\n",
              "0      TOT_KNOWN             Total number of known species  ...        NaN   NaN\n",
              "1  TOT_KNOWN_IND  Total number of indigenous known species  ...        NaN   NaN\n",
              "2     ENDANGERED              Number of endangered species  ...        NaN   NaN\n",
              "3       CRITICAL   Number of critically endangered species  ...        NaN   NaN\n",
              "4     VULNERABLE              Number of vulnerable species  ...        NaN   NaN\n",
              "\n",
              "[5 rows x 15 columns]"
            ]
          },
          "metadata": {
            "tags": []
          },
          "execution_count": 3
        }
      ]
    },
    {
      "cell_type": "code",
      "metadata": {
        "id": "k4C_nv5QDw4z",
        "outputId": "84d2e5bd-cf5e-4cd8-f777-d31c3c3b30b9",
        "colab": {
          "base_uri": "https://localhost:8080/"
        }
      },
      "source": [
        "df.shape"
      ],
      "execution_count": 4,
      "outputs": [
        {
          "output_type": "execute_result",
          "data": {
            "text/plain": [
              "(3317, 15)"
            ]
          },
          "metadata": {
            "tags": []
          },
          "execution_count": 4
        }
      ]
    },
    {
      "cell_type": "code",
      "metadata": {
        "id": "e3jE-UmlD8v2"
      },
      "source": [
        "df = df.drop(labels = ['SPEC','COU','PowerCode Code','PowerCode','Reference Period Code','Reference Period', 'Flag Codes','Flags'], axis = 1)\n"
      ],
      "execution_count": 5,
      "outputs": []
    },
    {
      "cell_type": "code",
      "metadata": {
        "id": "I3XnWGjgFSu8",
        "outputId": "b2302db3-5135-414a-81d0-45edb06c9042",
        "colab": {
          "base_uri": "https://localhost:8080/",
          "height": 198
        }
      },
      "source": [
        "df = df.drop(labels = ['Unit Code'], axis = 1)\n",
        "df.head()"
      ],
      "execution_count": 6,
      "outputs": [
        {
          "output_type": "execute_result",
          "data": {
            "text/html": [
              "<div>\n",
              "<style scoped>\n",
              "    .dataframe tbody tr th:only-of-type {\n",
              "        vertical-align: middle;\n",
              "    }\n",
              "\n",
              "    .dataframe tbody tr th {\n",
              "        vertical-align: top;\n",
              "    }\n",
              "\n",
              "    .dataframe thead th {\n",
              "        text-align: right;\n",
              "    }\n",
              "</style>\n",
              "<table border=\"1\" class=\"dataframe\">\n",
              "  <thead>\n",
              "    <tr style=\"text-align: right;\">\n",
              "      <th></th>\n",
              "      <th>IUCN</th>\n",
              "      <th>IUCN Category</th>\n",
              "      <th>Species</th>\n",
              "      <th>Country</th>\n",
              "      <th>Unit</th>\n",
              "      <th>Value</th>\n",
              "    </tr>\n",
              "  </thead>\n",
              "  <tbody>\n",
              "    <tr>\n",
              "      <th>0</th>\n",
              "      <td>TOT_KNOWN</td>\n",
              "      <td>Total number of known species</td>\n",
              "      <td>Mammals</td>\n",
              "      <td>Australia</td>\n",
              "      <td>Number</td>\n",
              "      <td>374.0</td>\n",
              "    </tr>\n",
              "    <tr>\n",
              "      <th>1</th>\n",
              "      <td>TOT_KNOWN_IND</td>\n",
              "      <td>Total number of indigenous known species</td>\n",
              "      <td>Mammals</td>\n",
              "      <td>Australia</td>\n",
              "      <td>Number</td>\n",
              "      <td>348.0</td>\n",
              "    </tr>\n",
              "    <tr>\n",
              "      <th>2</th>\n",
              "      <td>ENDANGERED</td>\n",
              "      <td>Number of endangered species</td>\n",
              "      <td>Mammals</td>\n",
              "      <td>Australia</td>\n",
              "      <td>Number</td>\n",
              "      <td>37.0</td>\n",
              "    </tr>\n",
              "    <tr>\n",
              "      <th>3</th>\n",
              "      <td>CRITICAL</td>\n",
              "      <td>Number of critically endangered species</td>\n",
              "      <td>Mammals</td>\n",
              "      <td>Australia</td>\n",
              "      <td>Number</td>\n",
              "      <td>10.0</td>\n",
              "    </tr>\n",
              "    <tr>\n",
              "      <th>4</th>\n",
              "      <td>VULNERABLE</td>\n",
              "      <td>Number of vulnerable species</td>\n",
              "      <td>Mammals</td>\n",
              "      <td>Australia</td>\n",
              "      <td>Number</td>\n",
              "      <td>60.0</td>\n",
              "    </tr>\n",
              "  </tbody>\n",
              "</table>\n",
              "</div>"
            ],
            "text/plain": [
              "            IUCN                             IUCN Category  ...    Unit  Value\n",
              "0      TOT_KNOWN             Total number of known species  ...  Number  374.0\n",
              "1  TOT_KNOWN_IND  Total number of indigenous known species  ...  Number  348.0\n",
              "2     ENDANGERED              Number of endangered species  ...  Number   37.0\n",
              "3       CRITICAL   Number of critically endangered species  ...  Number   10.0\n",
              "4     VULNERABLE              Number of vulnerable species  ...  Number   60.0\n",
              "\n",
              "[5 rows x 6 columns]"
            ]
          },
          "metadata": {
            "tags": []
          },
          "execution_count": 6
        }
      ]
    },
    {
      "cell_type": "code",
      "metadata": {
        "id": "EUwGBW1PF1Gk",
        "outputId": "ea29c044-58ba-47e4-ec5f-44f2111b6861",
        "colab": {
          "base_uri": "https://localhost:8080/"
        }
      },
      "source": [
        "df.dtypes"
      ],
      "execution_count": 7,
      "outputs": [
        {
          "output_type": "execute_result",
          "data": {
            "text/plain": [
              "IUCN              object\n",
              "IUCN Category     object\n",
              "Species           object\n",
              "Country           object\n",
              "Unit              object\n",
              "Value            float64\n",
              "dtype: object"
            ]
          },
          "metadata": {
            "tags": []
          },
          "execution_count": 7
        }
      ]
    },
    {
      "cell_type": "code",
      "metadata": {
        "id": "ibaa9L61Gee9",
        "outputId": "dfbd9360-d54f-435e-80ae-7a0754f370fe",
        "colab": {
          "base_uri": "https://localhost:8080/",
          "height": 198
        }
      },
      "source": [
        "df = df.rename(columns = {'IUCN Category': 'IUCN_Category'})\n",
        "df.head()\t"
      ],
      "execution_count": 8,
      "outputs": [
        {
          "output_type": "execute_result",
          "data": {
            "text/html": [
              "<div>\n",
              "<style scoped>\n",
              "    .dataframe tbody tr th:only-of-type {\n",
              "        vertical-align: middle;\n",
              "    }\n",
              "\n",
              "    .dataframe tbody tr th {\n",
              "        vertical-align: top;\n",
              "    }\n",
              "\n",
              "    .dataframe thead th {\n",
              "        text-align: right;\n",
              "    }\n",
              "</style>\n",
              "<table border=\"1\" class=\"dataframe\">\n",
              "  <thead>\n",
              "    <tr style=\"text-align: right;\">\n",
              "      <th></th>\n",
              "      <th>IUCN</th>\n",
              "      <th>IUCN_Category</th>\n",
              "      <th>Species</th>\n",
              "      <th>Country</th>\n",
              "      <th>Unit</th>\n",
              "      <th>Value</th>\n",
              "    </tr>\n",
              "  </thead>\n",
              "  <tbody>\n",
              "    <tr>\n",
              "      <th>0</th>\n",
              "      <td>TOT_KNOWN</td>\n",
              "      <td>Total number of known species</td>\n",
              "      <td>Mammals</td>\n",
              "      <td>Australia</td>\n",
              "      <td>Number</td>\n",
              "      <td>374.0</td>\n",
              "    </tr>\n",
              "    <tr>\n",
              "      <th>1</th>\n",
              "      <td>TOT_KNOWN_IND</td>\n",
              "      <td>Total number of indigenous known species</td>\n",
              "      <td>Mammals</td>\n",
              "      <td>Australia</td>\n",
              "      <td>Number</td>\n",
              "      <td>348.0</td>\n",
              "    </tr>\n",
              "    <tr>\n",
              "      <th>2</th>\n",
              "      <td>ENDANGERED</td>\n",
              "      <td>Number of endangered species</td>\n",
              "      <td>Mammals</td>\n",
              "      <td>Australia</td>\n",
              "      <td>Number</td>\n",
              "      <td>37.0</td>\n",
              "    </tr>\n",
              "    <tr>\n",
              "      <th>3</th>\n",
              "      <td>CRITICAL</td>\n",
              "      <td>Number of critically endangered species</td>\n",
              "      <td>Mammals</td>\n",
              "      <td>Australia</td>\n",
              "      <td>Number</td>\n",
              "      <td>10.0</td>\n",
              "    </tr>\n",
              "    <tr>\n",
              "      <th>4</th>\n",
              "      <td>VULNERABLE</td>\n",
              "      <td>Number of vulnerable species</td>\n",
              "      <td>Mammals</td>\n",
              "      <td>Australia</td>\n",
              "      <td>Number</td>\n",
              "      <td>60.0</td>\n",
              "    </tr>\n",
              "  </tbody>\n",
              "</table>\n",
              "</div>"
            ],
            "text/plain": [
              "            IUCN                             IUCN_Category  ...    Unit  Value\n",
              "0      TOT_KNOWN             Total number of known species  ...  Number  374.0\n",
              "1  TOT_KNOWN_IND  Total number of indigenous known species  ...  Number  348.0\n",
              "2     ENDANGERED              Number of endangered species  ...  Number   37.0\n",
              "3       CRITICAL   Number of critically endangered species  ...  Number   10.0\n",
              "4     VULNERABLE              Number of vulnerable species  ...  Number   60.0\n",
              "\n",
              "[5 rows x 6 columns]"
            ]
          },
          "metadata": {
            "tags": []
          },
          "execution_count": 8
        }
      ]
    },
    {
      "cell_type": "code",
      "metadata": {
        "id": "l8EsWPSrG5xT"
      },
      "source": [
        " IUCN_category_arr = df.IUCN_Category.unique()"
      ],
      "execution_count": 9,
      "outputs": []
    },
    {
      "cell_type": "code",
      "metadata": {
        "id": "zalkyH_dHeAJ"
      },
      "source": [
        "IUCN_code_arr = df.IUCN.unique()"
      ],
      "execution_count": 10,
      "outputs": []
    },
    {
      "cell_type": "code",
      "metadata": {
        "id": "RFU6RuD1Hxx-",
        "outputId": "aa6c58e7-8f9b-4381-c1d4-5bd1c0d23e63",
        "colab": {
          "base_uri": "https://localhost:8080/",
          "height": 408
        }
      },
      "source": [
        "IUCN_code_df = pd.DataFrame({'IUCN_CODE': IUCN_code_arr, 'IUCN_category':IUCN_category_arr})\n",
        "IUCN_code_df"
      ],
      "execution_count": 11,
      "outputs": [
        {
          "output_type": "execute_result",
          "data": {
            "text/html": [
              "<div>\n",
              "<style scoped>\n",
              "    .dataframe tbody tr th:only-of-type {\n",
              "        vertical-align: middle;\n",
              "    }\n",
              "\n",
              "    .dataframe tbody tr th {\n",
              "        vertical-align: top;\n",
              "    }\n",
              "\n",
              "    .dataframe thead th {\n",
              "        text-align: right;\n",
              "    }\n",
              "</style>\n",
              "<table border=\"1\" class=\"dataframe\">\n",
              "  <thead>\n",
              "    <tr style=\"text-align: right;\">\n",
              "      <th></th>\n",
              "      <th>IUCN_CODE</th>\n",
              "      <th>IUCN_category</th>\n",
              "    </tr>\n",
              "  </thead>\n",
              "  <tbody>\n",
              "    <tr>\n",
              "      <th>0</th>\n",
              "      <td>TOT_KNOWN</td>\n",
              "      <td>Total number of known species</td>\n",
              "    </tr>\n",
              "    <tr>\n",
              "      <th>1</th>\n",
              "      <td>TOT_KNOWN_IND</td>\n",
              "      <td>Total number of indigenous known species</td>\n",
              "    </tr>\n",
              "    <tr>\n",
              "      <th>2</th>\n",
              "      <td>ENDANGERED</td>\n",
              "      <td>Number of endangered species</td>\n",
              "    </tr>\n",
              "    <tr>\n",
              "      <th>3</th>\n",
              "      <td>CRITICAL</td>\n",
              "      <td>Number of critically endangered species</td>\n",
              "    </tr>\n",
              "    <tr>\n",
              "      <th>4</th>\n",
              "      <td>VULNERABLE</td>\n",
              "      <td>Number of vulnerable species</td>\n",
              "    </tr>\n",
              "    <tr>\n",
              "      <th>5</th>\n",
              "      <td>THREATENED</td>\n",
              "      <td>Total number of threatened species</td>\n",
              "    </tr>\n",
              "    <tr>\n",
              "      <th>6</th>\n",
              "      <td>ENDANGERED_IND</td>\n",
              "      <td>Number of endangered indigenous species</td>\n",
              "    </tr>\n",
              "    <tr>\n",
              "      <th>7</th>\n",
              "      <td>CRITICAL_IND</td>\n",
              "      <td>Number of critically endangered indigenous spe...</td>\n",
              "    </tr>\n",
              "    <tr>\n",
              "      <th>8</th>\n",
              "      <td>VULNERABLE_IND</td>\n",
              "      <td>Number of vulnerable indigenous species</td>\n",
              "    </tr>\n",
              "    <tr>\n",
              "      <th>9</th>\n",
              "      <td>THREAT_PERCENT</td>\n",
              "      <td>Threatened species as % of known species</td>\n",
              "    </tr>\n",
              "    <tr>\n",
              "      <th>10</th>\n",
              "      <td>THREATENED_IND</td>\n",
              "      <td>Total number of indigenous threatened species</td>\n",
              "    </tr>\n",
              "    <tr>\n",
              "      <th>11</th>\n",
              "      <td>IND_PERCENT</td>\n",
              "      <td>Threatened indigenous species as % of indigeno...</td>\n",
              "    </tr>\n",
              "  </tbody>\n",
              "</table>\n",
              "</div>"
            ],
            "text/plain": [
              "         IUCN_CODE                                      IUCN_category\n",
              "0        TOT_KNOWN                      Total number of known species\n",
              "1    TOT_KNOWN_IND           Total number of indigenous known species\n",
              "2       ENDANGERED                       Number of endangered species\n",
              "3         CRITICAL            Number of critically endangered species\n",
              "4       VULNERABLE                       Number of vulnerable species\n",
              "5       THREATENED                 Total number of threatened species\n",
              "6   ENDANGERED_IND            Number of endangered indigenous species\n",
              "7     CRITICAL_IND  Number of critically endangered indigenous spe...\n",
              "8   VULNERABLE_IND            Number of vulnerable indigenous species\n",
              "9   THREAT_PERCENT           Threatened species as % of known species\n",
              "10  THREATENED_IND      Total number of indigenous threatened species\n",
              "11     IND_PERCENT  Threatened indigenous species as % of indigeno..."
            ]
          },
          "metadata": {
            "tags": []
          },
          "execution_count": 11
        }
      ]
    },
    {
      "cell_type": "code",
      "metadata": {
        "id": "l2_0JDN3HME6",
        "outputId": "03544c01-d07d-4674-e75a-cdae2ceee06d",
        "colab": {
          "base_uri": "https://localhost:8080/"
        }
      },
      "source": [
        "df.Species.unique()"
      ],
      "execution_count": 12,
      "outputs": [
        {
          "output_type": "execute_result",
          "data": {
            "text/plain": [
              "array(['Mammals', 'Birds', 'Reptiles', 'Amphibians', 'Vascular plants',\n",
              "       'Fish', 'Marine Fish', 'Freshwater Fish', 'Mosses', 'Lichens',\n",
              "       'Invertebrates'], dtype=object)"
            ]
          },
          "metadata": {
            "tags": []
          },
          "execution_count": 12
        }
      ]
    },
    {
      "cell_type": "code",
      "metadata": {
        "id": "mQTc9i1KHR2Z",
        "outputId": "8d20e172-1c1e-42b2-a070-95a632e3c600",
        "colab": {
          "base_uri": "https://localhost:8080/"
        }
      },
      "source": [
        "df.Country.unique()"
      ],
      "execution_count": 13,
      "outputs": [
        {
          "output_type": "execute_result",
          "data": {
            "text/plain": [
              "array(['Australia', 'Austria', 'Belgium', 'Canada', 'Czech Republic',\n",
              "       'Denmark', 'Finland', 'France', 'Germany', 'Greece', 'Hungary',\n",
              "       'Iceland', 'Ireland', 'Italy', 'Japan', 'Korea', 'Mexico',\n",
              "       'Netherlands', 'New Zealand', 'Norway', 'Poland', 'Portugal',\n",
              "       'Slovak Republic', 'Spain', 'Sweden', 'Switzerland', 'Turkey',\n",
              "       'United Kingdom', 'Chile', 'Estonia', 'Israel', 'Russia',\n",
              "       'Slovenia', 'Luxembourg', 'Colombia', 'Latvia', 'Brazil',\n",
              "       'Costa Rica', 'Lithuania'], dtype=object)"
            ]
          },
          "metadata": {
            "tags": []
          },
          "execution_count": 13
        }
      ]
    },
    {
      "cell_type": "code",
      "metadata": {
        "id": "wbT56bkphpbm",
        "outputId": "62a2939f-bdbc-4668-ab31-eb1b49f72ce9",
        "colab": {
          "base_uri": "https://localhost:8080/",
          "height": 378
        }
      },
      "source": [
        "df.describe(include = 'all')"
      ],
      "execution_count": 14,
      "outputs": [
        {
          "output_type": "execute_result",
          "data": {
            "text/html": [
              "<div>\n",
              "<style scoped>\n",
              "    .dataframe tbody tr th:only-of-type {\n",
              "        vertical-align: middle;\n",
              "    }\n",
              "\n",
              "    .dataframe tbody tr th {\n",
              "        vertical-align: top;\n",
              "    }\n",
              "\n",
              "    .dataframe thead th {\n",
              "        text-align: right;\n",
              "    }\n",
              "</style>\n",
              "<table border=\"1\" class=\"dataframe\">\n",
              "  <thead>\n",
              "    <tr style=\"text-align: right;\">\n",
              "      <th></th>\n",
              "      <th>IUCN</th>\n",
              "      <th>IUCN_Category</th>\n",
              "      <th>Species</th>\n",
              "      <th>Country</th>\n",
              "      <th>Unit</th>\n",
              "      <th>Value</th>\n",
              "    </tr>\n",
              "  </thead>\n",
              "  <tbody>\n",
              "    <tr>\n",
              "      <th>count</th>\n",
              "      <td>3317</td>\n",
              "      <td>3317</td>\n",
              "      <td>3317</td>\n",
              "      <td>3317</td>\n",
              "      <td>3317</td>\n",
              "      <td>3317.000000</td>\n",
              "    </tr>\n",
              "    <tr>\n",
              "      <th>unique</th>\n",
              "      <td>12</td>\n",
              "      <td>12</td>\n",
              "      <td>11</td>\n",
              "      <td>39</td>\n",
              "      <td>2</td>\n",
              "      <td>NaN</td>\n",
              "    </tr>\n",
              "    <tr>\n",
              "      <th>top</th>\n",
              "      <td>TOT_KNOWN</td>\n",
              "      <td>Total number of known species</td>\n",
              "      <td>Birds</td>\n",
              "      <td>Canada</td>\n",
              "      <td>Number</td>\n",
              "      <td>NaN</td>\n",
              "    </tr>\n",
              "    <tr>\n",
              "      <th>freq</th>\n",
              "      <td>341</td>\n",
              "      <td>341</td>\n",
              "      <td>381</td>\n",
              "      <td>132</td>\n",
              "      <td>2777</td>\n",
              "      <td>NaN</td>\n",
              "    </tr>\n",
              "    <tr>\n",
              "      <th>mean</th>\n",
              "      <td>NaN</td>\n",
              "      <td>NaN</td>\n",
              "      <td>NaN</td>\n",
              "      <td>NaN</td>\n",
              "      <td>NaN</td>\n",
              "      <td>479.412124</td>\n",
              "    </tr>\n",
              "    <tr>\n",
              "      <th>std</th>\n",
              "      <td>NaN</td>\n",
              "      <td>NaN</td>\n",
              "      <td>NaN</td>\n",
              "      <td>NaN</td>\n",
              "      <td>NaN</td>\n",
              "      <td>3429.800340</td>\n",
              "    </tr>\n",
              "    <tr>\n",
              "      <th>min</th>\n",
              "      <td>NaN</td>\n",
              "      <td>NaN</td>\n",
              "      <td>NaN</td>\n",
              "      <td>NaN</td>\n",
              "      <td>NaN</td>\n",
              "      <td>0.000000</td>\n",
              "    </tr>\n",
              "    <tr>\n",
              "      <th>25%</th>\n",
              "      <td>NaN</td>\n",
              "      <td>NaN</td>\n",
              "      <td>NaN</td>\n",
              "      <td>NaN</td>\n",
              "      <td>NaN</td>\n",
              "      <td>7.000000</td>\n",
              "    </tr>\n",
              "    <tr>\n",
              "      <th>50%</th>\n",
              "      <td>NaN</td>\n",
              "      <td>NaN</td>\n",
              "      <td>NaN</td>\n",
              "      <td>NaN</td>\n",
              "      <td>NaN</td>\n",
              "      <td>24.000000</td>\n",
              "    </tr>\n",
              "    <tr>\n",
              "      <th>75%</th>\n",
              "      <td>NaN</td>\n",
              "      <td>NaN</td>\n",
              "      <td>NaN</td>\n",
              "      <td>NaN</td>\n",
              "      <td>NaN</td>\n",
              "      <td>92.000000</td>\n",
              "    </tr>\n",
              "    <tr>\n",
              "      <th>max</th>\n",
              "      <td>NaN</td>\n",
              "      <td>NaN</td>\n",
              "      <td>NaN</td>\n",
              "      <td>NaN</td>\n",
              "      <td>NaN</td>\n",
              "      <td>110830.000000</td>\n",
              "    </tr>\n",
              "  </tbody>\n",
              "</table>\n",
              "</div>"
            ],
            "text/plain": [
              "             IUCN                  IUCN_Category  ...    Unit          Value\n",
              "count        3317                           3317  ...    3317    3317.000000\n",
              "unique         12                             12  ...       2            NaN\n",
              "top     TOT_KNOWN  Total number of known species  ...  Number            NaN\n",
              "freq          341                            341  ...    2777            NaN\n",
              "mean          NaN                            NaN  ...     NaN     479.412124\n",
              "std           NaN                            NaN  ...     NaN    3429.800340\n",
              "min           NaN                            NaN  ...     NaN       0.000000\n",
              "25%           NaN                            NaN  ...     NaN       7.000000\n",
              "50%           NaN                            NaN  ...     NaN      24.000000\n",
              "75%           NaN                            NaN  ...     NaN      92.000000\n",
              "max           NaN                            NaN  ...     NaN  110830.000000\n",
              "\n",
              "[11 rows x 6 columns]"
            ]
          },
          "metadata": {
            "tags": []
          },
          "execution_count": 14
        }
      ]
    },
    {
      "cell_type": "code",
      "metadata": {
        "id": "Uq-oIynih8TH",
        "outputId": "4700f1a8-dd0b-4efe-cf51-845003ed3d3b",
        "colab": {
          "base_uri": "https://localhost:8080/"
        }
      },
      "source": [
        "df.info()"
      ],
      "execution_count": 15,
      "outputs": [
        {
          "output_type": "stream",
          "text": [
            "<class 'pandas.core.frame.DataFrame'>\n",
            "RangeIndex: 3317 entries, 0 to 3316\n",
            "Data columns (total 6 columns):\n",
            " #   Column         Non-Null Count  Dtype  \n",
            "---  ------         --------------  -----  \n",
            " 0   IUCN           3317 non-null   object \n",
            " 1   IUCN_Category  3317 non-null   object \n",
            " 2   Species        3317 non-null   object \n",
            " 3   Country        3317 non-null   object \n",
            " 4   Unit           3317 non-null   object \n",
            " 5   Value          3317 non-null   float64\n",
            "dtypes: float64(1), object(5)\n",
            "memory usage: 155.6+ KB\n"
          ],
          "name": "stdout"
        }
      ]
    },
    {
      "cell_type": "code",
      "metadata": {
        "id": "yrYxYglUfqgK",
        "outputId": "9326f2ac-71ac-412c-e070-d19448745fb8",
        "colab": {
          "base_uri": "https://localhost:8080/",
          "height": 288
        }
      },
      "source": [
        "df.loc[(df['IUCN'] == 'THREAT_PERCENT') & (df['Country'] == 'France'), :]"
      ],
      "execution_count": 16,
      "outputs": [
        {
          "output_type": "execute_result",
          "data": {
            "text/html": [
              "<div>\n",
              "<style scoped>\n",
              "    .dataframe tbody tr th:only-of-type {\n",
              "        vertical-align: middle;\n",
              "    }\n",
              "\n",
              "    .dataframe tbody tr th {\n",
              "        vertical-align: top;\n",
              "    }\n",
              "\n",
              "    .dataframe thead th {\n",
              "        text-align: right;\n",
              "    }\n",
              "</style>\n",
              "<table border=\"1\" class=\"dataframe\">\n",
              "  <thead>\n",
              "    <tr style=\"text-align: right;\">\n",
              "      <th></th>\n",
              "      <th>IUCN</th>\n",
              "      <th>IUCN_Category</th>\n",
              "      <th>Species</th>\n",
              "      <th>Country</th>\n",
              "      <th>Unit</th>\n",
              "      <th>Value</th>\n",
              "    </tr>\n",
              "  </thead>\n",
              "  <tbody>\n",
              "    <tr>\n",
              "      <th>1331</th>\n",
              "      <td>THREAT_PERCENT</td>\n",
              "      <td>Threatened species as % of known species</td>\n",
              "      <td>Mammals</td>\n",
              "      <td>France</td>\n",
              "      <td>Percentage</td>\n",
              "      <td>13.600</td>\n",
              "    </tr>\n",
              "    <tr>\n",
              "      <th>1332</th>\n",
              "      <td>THREAT_PERCENT</td>\n",
              "      <td>Threatened species as % of known species</td>\n",
              "      <td>Birds</td>\n",
              "      <td>France</td>\n",
              "      <td>Percentage</td>\n",
              "      <td>27.366</td>\n",
              "    </tr>\n",
              "    <tr>\n",
              "      <th>1333</th>\n",
              "      <td>THREAT_PERCENT</td>\n",
              "      <td>Threatened species as % of known species</td>\n",
              "      <td>Reptiles</td>\n",
              "      <td>France</td>\n",
              "      <td>Percentage</td>\n",
              "      <td>23.684</td>\n",
              "    </tr>\n",
              "    <tr>\n",
              "      <th>1334</th>\n",
              "      <td>THREAT_PERCENT</td>\n",
              "      <td>Threatened species as % of known species</td>\n",
              "      <td>Amphibians</td>\n",
              "      <td>France</td>\n",
              "      <td>Percentage</td>\n",
              "      <td>22.857</td>\n",
              "    </tr>\n",
              "    <tr>\n",
              "      <th>1335</th>\n",
              "      <td>THREAT_PERCENT</td>\n",
              "      <td>Threatened species as % of known species</td>\n",
              "      <td>Freshwater Fish</td>\n",
              "      <td>France</td>\n",
              "      <td>Percentage</td>\n",
              "      <td>18.750</td>\n",
              "    </tr>\n",
              "    <tr>\n",
              "      <th>3125</th>\n",
              "      <td>THREAT_PERCENT</td>\n",
              "      <td>Threatened species as % of known species</td>\n",
              "      <td>Vascular plants</td>\n",
              "      <td>France</td>\n",
              "      <td>Percentage</td>\n",
              "      <td>8.450</td>\n",
              "    </tr>\n",
              "    <tr>\n",
              "      <th>3126</th>\n",
              "      <td>THREAT_PERCENT</td>\n",
              "      <td>Threatened species as % of known species</td>\n",
              "      <td>Fish</td>\n",
              "      <td>France</td>\n",
              "      <td>Percentage</td>\n",
              "      <td>15.951</td>\n",
              "    </tr>\n",
              "    <tr>\n",
              "      <th>3127</th>\n",
              "      <td>THREAT_PERCENT</td>\n",
              "      <td>Threatened species as % of known species</td>\n",
              "      <td>Invertebrates</td>\n",
              "      <td>France</td>\n",
              "      <td>Percentage</td>\n",
              "      <td>20.660</td>\n",
              "    </tr>\n",
              "  </tbody>\n",
              "</table>\n",
              "</div>"
            ],
            "text/plain": [
              "                IUCN  ...   Value\n",
              "1331  THREAT_PERCENT  ...  13.600\n",
              "1332  THREAT_PERCENT  ...  27.366\n",
              "1333  THREAT_PERCENT  ...  23.684\n",
              "1334  THREAT_PERCENT  ...  22.857\n",
              "1335  THREAT_PERCENT  ...  18.750\n",
              "3125  THREAT_PERCENT  ...   8.450\n",
              "3126  THREAT_PERCENT  ...  15.951\n",
              "3127  THREAT_PERCENT  ...  20.660\n",
              "\n",
              "[8 rows x 6 columns]"
            ]
          },
          "metadata": {
            "tags": []
          },
          "execution_count": 16
        }
      ]
    },
    {
      "cell_type": "markdown",
      "metadata": {
        "id": "OG-JW97sJaw0"
      },
      "source": [
        "# **VISUALISATIONS MATPLOTLIB**"
      ]
    },
    {
      "cell_type": "code",
      "metadata": {
        "id": "pfpcN-pKJeHQ",
        "outputId": "5225d2d5-c06a-42e3-c1cb-772d614e5dfa",
        "colab": {
          "base_uri": "https://localhost:8080/",
          "height": 1000
        }
      },
      "source": [
        "fig, ax = plt.subplots(figsize = (13,20))\n",
        "sns.set_theme(style=\"whitegrid\")\n",
        "\n",
        "#figue 1 representant le nombre d'especes total vs le nombre d'especes menacees pour  groupes : Mammals, Birds, Reptiles et Fish\n",
        "ax3 = plt.subplot(311)\n",
        "\n",
        "# Values of each group\n",
        "bars1 = [int((df.loc[(df['IUCN'] == 'THREATENED') & (df['Species'] == 'Mammals'), ['Value']]).sum()), int((df.loc[(df['IUCN'] == 'THREATENED') & (df['Species'] == 'Birds'), ['Value']]).sum()), \n",
        "         int((df.loc[(df['IUCN'] == 'THREATENED') & (df['Species'] == 'Reptiles'), ['Value']]).sum()),int((df.loc[(df['IUCN'] == 'THREATENED') & (df['Species'] == 'Fish'), ['Value']]).sum())]\n",
        "\n",
        "bars2 = [int((df.loc[(df['IUCN'] == 'TOT_KNOWN') & (df['Species'] == 'Mammals'), ['Value']]).sum() - (df.loc[(df['IUCN'] == 'THREATENED') & (df['Species'] == 'Mammals'), ['Value']]).sum()),\n",
        "         int((df.loc[(df['IUCN'] == 'TOT_KNOWN') & (df['Species'] == 'Birds'), ['Value']]).sum() - (df.loc[(df['IUCN'] == 'THREATENED') & (df['Species'] == 'Birds'), ['Value']]).sum()),\n",
        "         int((df.loc[(df['IUCN'] == 'TOT_KNOWN') & (df['Species'] == 'Reptiles'), ['Value']]).sum() - (df.loc[(df['IUCN'] == 'THREATENED') & (df['Species'] == 'Reptiles'), ['Value']]).sum()),\n",
        "         int((df.loc[(df['IUCN'] == 'TOT_KNOWN') & (df['Species'] == 'Fish'), ['Value']]).sum() - (df.loc[(df['IUCN'] == 'THREATENED') & (df['Species'] == 'Fish'), ['Value']]).sum())]\n",
        " \n",
        "# Heights of bars1 + bars2\n",
        "bars = np.add(bars1, bars2).tolist()\n",
        " \n",
        "# The position of the bars on the x-axis\n",
        "r = [0,1,2,3]\n",
        " \n",
        "# Names of group and bar width\n",
        "names = ['Mammals', 'Birds', 'Reptiles', 'Fish']\n",
        "barWidth = 0.35\n",
        " \n",
        "# Create brown bars\n",
        "plt.bar(r, bars1, color='#9c2525', edgecolor='white', width=barWidth, label = \"Threatened species\", alpha = 0.80)\n",
        "# Create green bars (middle), on top of the firs ones\n",
        "plt.bar(r, bars2, bottom=bars1, color='#2d7f5e', edgecolor='white', width=barWidth,  label = \"Non-threatened species\",alpha = 0.80)\n",
        "\n",
        " \n",
        "# Custom X axis\n",
        "plt.xticks(r, names)\n",
        "plt.xlabel(\"Groups\", fontweight='bold')\n",
        "plt.ylabel(\"Number of species\", fontweight='bold')\n",
        "plt.legend()\n",
        "plt.title(\"Ratio of threatened vs non-threatened species for 4 groups of animals (OECD countries)\", fontweight='bold')\n",
        "\n",
        "\n",
        "\n",
        "#figure 2 (complementaire a la figure 1) representant le nombre d'especes menacees pour 4 groupes : Mammals, Birds, Reptiles et Fish\n",
        "ax1 = plt.subplot(312)\n",
        "\n",
        "barWidth = 0.25\n",
        "\n",
        "#listes pour chaque niveau de vulnerabilite (endangered, critical, vulnerable)\n",
        "\n",
        "bars1 = [int((df.loc[(df['IUCN'] == 'ENDANGERED') & (df['Species'] == 'Mammals'), ['Value']]).sum()), int((df.loc[(df['IUCN'] == 'ENDANGERED') & (df['Species'] == 'Birds'), ['Value']]).sum()), \n",
        "         int((df.loc[(df['IUCN'] == 'ENDANGERED') & (df['Species'] == 'Reptiles'), ['Value']]).sum()),int((df.loc[(df['IUCN'] == 'ENDANGERED') & (df['Species'] == 'Fish'), ['Value']]).sum())]\n",
        "\n",
        "bars2 = [int((df.loc[(df['IUCN'] == 'CRITICAL') & (df['Species'] == 'Mammals'), ['Value']]).sum()), int((df.loc[(df['IUCN'] == 'CRITICAL') & (df['Species'] == 'Birds'), ['Value']]).sum()),\n",
        "         int((df.loc[(df['IUCN'] == 'CRITICAL') & (df['Species'] == 'Reptiles'), ['Value']]).sum()),int((df.loc[(df['IUCN'] == 'CRITICAL') & (df['Species'] == 'Fish'), ['Value']]).sum())]\n",
        "\n",
        "bars3 = [int((df.loc[(df['IUCN'] == 'VULNERABLE') & (df['Species'] == 'Mammals'), ['Value']]).sum()), int((df.loc[(df['IUCN'] == 'VULNERABLE') & (df['Species'] == 'Birds'), ['Value']]).sum()),\n",
        "         int((df.loc[(df['IUCN'] == 'VULNERABLE') & (df['Species'] == 'Reptiles'), ['Value']]).sum()),int((df.loc[(df['IUCN'] == 'VULNERABLE') & (df['Species'] == 'Fish'), ['Value']]).sum())]\n",
        "\n",
        "#bars4 = [int((df.loc[(df['IUCN'] == 'TOT_KNOWN') & (df['Species'] == 'Mammals'), ['Value']]).sum() - (df.loc[(df['IUCN'] == 'THREATENED') & (df['Species'] == 'Mammals'), ['Value']]).sum()),\n",
        "         #int((df.loc[(df['IUCN'] == 'TOT_KNOWN') & (df['Species'] == 'Birds'), ['Value']]).sum() - (df.loc[(df['IUCN'] == 'THREATENED') & (df['Species'] == 'Birds'), ['Value']]).sum()),\n",
        "         #int((df.loc[(df['IUCN'] == 'TOT_KNOWN') & (df['Species'] == 'Reptiles'), ['Value']]).sum() - (df.loc[(df['IUCN'] == 'THREATENED') & (df['Species'] == 'Reptiles'), ['Value']]).sum()),\n",
        "         #int((df.loc[(df['IUCN'] == 'TOT_KNOWN') & (df['Species'] == 'Fish'), ['Value']]).sum() - (df.loc[(df['IUCN'] == 'THREATENED') & (df['Species'] == 'Fish'), ['Value']]).sum())]\n",
        "\n",
        "\n",
        "#figure\n",
        "r1 = np.arange(len(bars1))\n",
        "r2 = [x + barWidth for x in r1]\n",
        "r3 = [x + barWidth for x in r2]\n",
        "#r4 = [x + barWidth for x in r3]\n",
        "\n",
        "ax1.bar(r1, bars1, color='#7f6d5f', width=barWidth, edgecolor='white', label='ENDANGERED',alpha = 0.80)\n",
        "ax1.bar(r2, bars2, color='#557f2d', width=barWidth, edgecolor='white', label='CRITICAL',alpha = 0.80)\n",
        "ax1.bar(r3, bars3, color='#2d7f5e', width=barWidth, edgecolor='white', label='VULNERABLE',alpha = 0.80)\n",
        "#plt.bar(r4, bars4, color='#2d7f5e', width=barWidth, edgecolor='white', label='NON-THREATENED')\n",
        "\n",
        "#legendes, titres\n",
        "plt.xlabel('Groups', fontweight='bold')\n",
        "plt.xticks([r + barWidth for r in range(len(bars1))], ['Mammals', 'Birds', 'Reptiles', 'Fish'])\n",
        "plt.ylabel(\"Number of species\", fontweight='bold')\n",
        "plt.legend(title = 'Vulnerability levels (IUCN)')\n",
        "plt.title(\"Vulnerability level of threatened species for 4 groups of animals (OECD countries)\", fontweight='bold')\n",
        "\n",
        "\n",
        "\n",
        "#figure 3 representant le nombre d'especes menacees pour 4 groupes : Mammals, Birds, Reptiles et Fish\n",
        "ax2 = plt.subplot(313)\n",
        "\n",
        "height = [int((df.loc[(df['IUCN'] == 'THREAT_PERCENT') & (df['Species'] == 'Mammals'), ['Value']]).mean()), \n",
        "          int((df.loc[(df['IUCN'] == 'THREAT_PERCENT') & (df['Species'] == 'Birds'), ['Value']]).mean()),\n",
        "          int((df.loc[(df['IUCN'] == 'THREAT_PERCENT') & (df['Species'] == 'Reptiles'), ['Value']]).mean()),\n",
        "          int((df.loc[(df['IUCN'] == 'THREAT_PERCENT') & (df['Species'] == 'Amphibians'), ['Value']]).mean()),\n",
        "          int((df.loc[(df['IUCN'] == 'THREAT_PERCENT') & (df['Species'] == 'Vascular plants'), ['Value']]).mean()),\n",
        "          int((df.loc[(df['IUCN'] == 'THREAT_PERCENT') & (df['Species'] == 'Fish'), ['Value']]).mean()),\n",
        "          int((df.loc[(df['IUCN'] == 'THREAT_PERCENT') & (df['Species'] == 'Freshwater Fish'), ['Value']]).mean()),\n",
        "          int((df.loc[(df['IUCN'] == 'THREAT_PERCENT') & (df['Species'] == 'Invertebrates'), ['Value']]).mean())]\n",
        "\n",
        "\n",
        "bars = ('Mammals', 'Birds', 'Reptiles', 'Amphibians', 'Vascular plants', 'Fish', 'Freshwater Fish', 'Invertebrates')\n",
        "\n",
        "#tri de la liste height afin d'afficher les valeurs de la plus grande a la plus petite\n",
        "unsorted_list = [(height, bars) for bars, height in zip(bars, height)]\n",
        "sorted_list = sorted(unsorted_list)\n",
        "\n",
        "bars_sorted = []\n",
        "height_sorted = []\n",
        "\n",
        "for i in sorted_list:\n",
        "    bars_sorted += [i[1]]\n",
        "    height_sorted += [i[0]]\n",
        "\n",
        "# figure\n",
        "ax2.barh(range(len(height_sorted)),height_sorted, color = '#2d7f5e',alpha = 0.80)\n",
        "\n",
        "# legendes, titres\n",
        "plt.xlabel('Percentages (%)', fontweight='bold')\n",
        "plt.yticks(range(len(height_sorted)), bars_sorted)\n",
        "plt.ylabel(\"Groups\", fontweight='bold')\n",
        "plt.title(\"Threatened species, by group in OECD countries (%)\", fontweight='bold')\n",
        "\n",
        "\n",
        "plt.show()"
      ],
      "execution_count": 39,
      "outputs": [
        {
          "output_type": "display_data",
          "data": {
            "image/png": "[encoded data removed]",
            "text/plain": [
              "<Figure size 936x1440 with 3 Axes>"
            ]
          },
          "metadata": {
            "tags": []
          }
        }
      ]
    },
    {
      "cell_type": "code",
      "metadata": {
        "id": "Mwx7Mkn6hnnD"
      },
      "source": [
        "fig1 = ax1.get_figure()\n",
        "\n",
        "fig1.savefig('threatened_species.jpg')"
      ],
      "execution_count": 40,
      "outputs": []
    },
    {
      "cell_type": "markdown",
      "metadata": {
        "id": "IHtBZ9ZJscXF"
      },
      "source": [
        "# **VISUALISATIONS SEABORN / PLOTLY**"
      ]
    },
    {
      "cell_type": "code",
      "metadata": {
        "id": "Zx0l5qUPsjPm",
        "outputId": "1a772d18-1c9e-497f-8ce9-5ced19eff56c",
        "colab": {
          "base_uri": "https://localhost:8080/",
          "height": 518
        }
      },
      "source": [
        "#Threatened species by group (OECD)\n",
        "\n",
        "fig, ax = plt.subplots(figsize = (16,8))\n",
        "\n",
        "df[df['IUCN'] == 'THREATENED']['Value']\n",
        "\n",
        "sns.barplot(x = 'Species', \n",
        "            y = df[df['IUCN'] == 'THREAT_PERCENT']['Value'], \n",
        "            data = df\n",
        "            )\n",
        "\n",
        "plt.xlabel('Groups', fontweight='bold')\n",
        "plt.ylabel(\"Threatened species (%)\", fontweight='bold')\n",
        "plt.title(\"Threatened species by group (OECD)\", fontweight='bold')\n",
        "\n",
        "plt.show()"
      ],
      "execution_count": 35,
      "outputs": [
        {
          "output_type": "display_data",
          "data": {
            "image/png": "[encoded data removed]",
            "text/plain": [
              "<Figure size 1152x576 with 1 Axes>"
            ]
          },
          "metadata": {
            "tags": []
          }
        }
      ]
    },
    {
      "cell_type": "code",
      "metadata": {
        "id": "uTbJAKIowDPg",
        "outputId": "19307691-3c88-4c53-8693-b41c7f7dac17",
        "colab": {
          "base_uri": "https://localhost:8080/",
          "height": 542
        }
      },
      "source": [
        "#Threatened species by group and by country (OECD)\n",
        "\n",
        "\n",
        "px.scatter(data_frame = df, \n",
        "                 x= df[df['IUCN'] == 'THREAT_PERCENT']['Species'], \n",
        "                 y=df[df['IUCN'] == 'THREAT_PERCENT']['Value'],\n",
        "           size = df[df['IUCN'] == 'THREAT_PERCENT']['Value'],\n",
        "           title=\"Threatened species by group and by country (OECD)\",\n",
        "                 labels={\n",
        "                     'x': \"Groups\",\n",
        "                     'y': \"Threatened species (%)\",\n",
        "                     'animation_frame':'Country',\n",
        "                     'color':'Intensity of the threat'},\n",
        "           animation_frame = df[df['IUCN'] == 'THREAT_PERCENT']['Country'],           \n",
        "            range_y = [0,100],color =df[df['IUCN'] == 'THREAT_PERCENT']['Value'], color_continuous_scale=px.colors.sequential.Reds)\n",
        "\n"
      ],
      "execution_count": 49,
      "outputs": [
        {
          "output_type": "display_data",
          "data": {
            "text/html": [
              "<html>\n",
              "<head><meta charset=\"utf-8\" /></head>\n",
              "<body>\n",
              "    <div>\n",
              "            <script src=\"https://cdnjs.cloudflare.com/ajax/libs/mathjax/2.7.5/MathJax.js?config=TeX-AMS-MML_SVG\"></script><script type=\"text/javascript\">if (window.MathJax) {MathJax.Hub.Config({SVG: {font: \"STIX-Web\"}});}</script>\n",
              "                <script type=\"text/javascript\">window.PlotlyConfig = {MathJaxConfig: 'local'};</script>\n",
              "        <script src=\"https://cdn.plot.ly/plotly-latest.min.js\"></script>    \n",
              "            <div id=\"d1667ef5-8136-4a5c-a2de-024470263ec6\" class=\"plotly-graph-div\" style=\"height:525px; width:100%;\"></div>\n",
              "            <script type=\"text/javascript\">\n",
              "                \n",
              "                    window.PLOTLYENV=window.PLOTLYENV || {};\n",
              "                    \n",
              "                if (document.getElementById(\"d1667ef5-8136-4a5c-a2de-024470263ec6\")) {\n",
              "                    Plotly.newPlot(\n",
              "                        'd1667ef5-8136-4a5c-a2de-024470263ec6',\n",
              "                        [{\"hoverlabel\": {\"namelength\": 0}, \"hovertemplate\": \"Country=Australia<br>Groups=%{x}<br>Threatened species (%)=%{y}<br>size=%{marker.size}<br>Intensity of the threat=%{marker.color}\", \"legendgroup\": \"\", \"marker\": {\"color\": [28.61, 17.092, 5.821000000000001, 15.612, 6.647, 0.945, 0.055999999999999994, 0.059000000000000004, 0.278, 9.6], \"coloraxis\": \"coloraxis\", \"size\": [28.61, 17.092, 5.821000000000001, 15.612, 6.647, 0.945, 0.055999999999999994, 0.059000000000000004, 0.278, 9.6], \"sizemode\": \"area\", \"sizeref\": 0.20238, \"symbol\": \"circle\"}, \"mode\": \"markers\", \"name\": \"\", \"showlegend\": false, \"type\": \"scatter\", \"x\": [\"Mammals\", \"Birds\", \"Reptiles\", \"Amphibians\", \"Vascular plants\", \"Fish\", \"Mosses\", \"Invertebrates\", \"Marine Fish\", \"Freshwater Fish\"], \"xaxis\": \"x\", \"y\": [28.61, 17.092, 5.821000000000001, 15.612, 6.647, 0.945, 0.055999999999999994, 0.059000000000000004, 0.278, 9.6], \"yaxis\": \"y\"}],\n",
              "                        {\"coloraxis\": {\"colorbar\": {\"title\": {\"text\": \"Intensity of the threat\"}}, \"colorscale\": [[0.0, \"rgb(255,245,240)\"], [0.125, \"rgb(254,224,210)\"], [0.25, \"rgb(252,187,161)\"], [0.375, \"rgb(252,146,114)\"], [0.5, \"rgb(251,106,74)\"], [0.625, \"rgb(239,59,44)\"], [0.75, \"rgb(203,24,29)\"], [0.875, \"rgb(165,15,21)\"], [1.0, \"rgb(103,0,13)\"]]}, \"legend\": {\"itemsizing\": \"constant\", \"tracegroupgap\": 0}, \"sliders\": [{\"active\": 0, \"currentvalue\": {\"prefix\": \"Country=\"}, \"len\": 0.9, \"pad\": {\"b\": 10, \"t\": 60}, \"steps\": [{\"args\": [[\"Australia\"], {\"frame\": {\"duration\": 0, \"redraw\": false}, \"fromcurrent\": true, \"mode\": \"immediate\", \"transition\": {\"duration\": 0, \"easing\": \"linear\"}}], \"label\": \"Australia\", \"method\": \"animate\"}, {\"args\": [[\"Austria\"], {\"frame\": {\"duration\": 0, \"redraw\": false}, \"fromcurrent\": true, \"mode\": \"immediate\", \"transition\": {\"duration\": 0, \"easing\": \"linear\"}}], \"label\": \"Austria\", \"method\": \"animate\"}, {\"args\": [[\"Belgium\"], {\"frame\": {\"duration\": 0, \"redraw\": false}, \"fromcurrent\": true, \"mode\": \"immediate\", \"transition\": {\"duration\": 0, \"easing\": \"linear\"}}], \"label\": \"Belgium\", \"method\": \"animate\"}, {\"args\": [[\"Canada\"], {\"frame\": {\"duration\": 0, \"redraw\": false}, \"fromcurrent\": true, \"mode\": \"immediate\", \"transition\": {\"duration\": 0, \"easing\": \"linear\"}}], \"label\": \"Canada\", \"method\": \"animate\"}, {\"args\": [[\"Czech Republic\"], {\"frame\": {\"duration\": 0, \"redraw\": false}, \"fromcurrent\": true, \"mode\": \"immediate\", \"transition\": {\"duration\": 0, \"easing\": \"linear\"}}], \"label\": \"Czech Republic\", \"method\": \"animate\"}, {\"args\": [[\"Denmark\"], {\"frame\": {\"duration\": 0, \"redraw\": false}, \"fromcurrent\": true, \"mode\": \"immediate\", \"transition\": {\"duration\": 0, \"easing\": \"linear\"}}], \"label\": \"Denmark\", \"method\": \"animate\"}, {\"args\": [[\"Finland\"], {\"frame\": {\"duration\": 0, \"redraw\": false}, \"fromcurrent\": true, \"mode\": \"immediate\", \"transition\": {\"duration\": 0, \"easing\": \"linear\"}}], \"label\": \"Finland\", \"method\": \"animate\"}, {\"args\": [[\"France\"], {\"frame\": {\"duration\": 0, \"redraw\": false}, \"fromcurrent\": true, \"mode\": \"immediate\", \"transition\": {\"duration\": 0, \"easing\": \"linear\"}}], \"label\": \"France\", \"method\": \"animate\"}, {\"args\": [[\"Germany\"], {\"frame\": {\"duration\": 0, \"redraw\": false}, \"fromcurrent\": true, \"mode\": \"immediate\", \"transition\": {\"duration\": 0, \"easing\": \"linear\"}}], \"label\": \"Germany\", \"method\": \"animate\"}, {\"args\": [[\"Greece\"], {\"frame\": {\"duration\": 0, \"redraw\": false}, \"fromcurrent\": true, \"mode\": \"immediate\", \"transition\": {\"duration\": 0, \"easing\": \"linear\"}}], \"label\": \"Greece\", \"method\": \"animate\"}, {\"args\": [[\"Hungary\"], {\"frame\": {\"duration\": 0, \"redraw\": false}, \"fromcurrent\": true, \"mode\": \"immediate\", \"transition\": {\"duration\": 0, \"easing\": \"linear\"}}], \"label\": \"Hungary\", \"method\": \"animate\"}, {\"args\": [[\"Iceland\"], {\"frame\": {\"duration\": 0, \"redraw\": false}, \"fromcurrent\": true, \"mode\": \"immediate\", \"transition\": {\"duration\": 0, \"easing\": \"linear\"}}], \"label\": \"Iceland\", \"method\": \"animate\"}, {\"args\": [[\"Ireland\"], {\"frame\": {\"duration\": 0, \"redraw\": false}, \"fromcurrent\": true, \"mode\": \"immediate\", \"transition\": {\"duration\": 0, \"easing\": \"linear\"}}], \"label\": \"Ireland\", \"method\": \"animate\"}, {\"args\": [[\"Italy\"], {\"frame\": {\"duration\": 0, \"redraw\": false}, \"fromcurrent\": true, \"mode\": \"immediate\", \"transition\": {\"duration\": 0, \"easing\": \"linear\"}}], \"label\": \"Italy\", \"method\": \"animate\"}, {\"args\": [[\"Japan\"], {\"frame\": {\"duration\": 0, \"redraw\": false}, \"fromcurrent\": true, \"mode\": \"immediate\", \"transition\": {\"duration\": 0, \"easing\": \"linear\"}}], \"label\": \"Japan\", \"method\": \"animate\"}, {\"args\": [[\"Korea\"], {\"frame\": {\"duration\": 0, \"redraw\": false}, \"fromcurrent\": true, \"mode\": \"immediate\", \"transition\": {\"duration\": 0, \"easing\": \"linear\"}}], \"label\": \"Korea\", \"method\": \"animate\"}, {\"args\": [[\"Luxembourg\"], {\"frame\": {\"duration\": 0, \"redraw\": false}, \"fromcurrent\": true, \"mode\": \"immediate\", \"transition\": {\"duration\": 0, \"easing\": \"linear\"}}], \"label\": \"Luxembourg\", \"method\": \"animate\"}, {\"args\": [[\"Mexico\"], {\"frame\": {\"duration\": 0, \"redraw\": false}, \"fromcurrent\": true, \"mode\": \"immediate\", \"transition\": {\"duration\": 0, \"easing\": \"linear\"}}], \"label\": \"Mexico\", \"method\": \"animate\"}, {\"args\": [[\"Netherlands\"], {\"frame\": {\"duration\": 0, \"redraw\": false}, \"fromcurrent\": true, \"mode\": \"immediate\", \"transition\": {\"duration\": 0, \"easing\": \"linear\"}}], \"label\": \"Netherlands\", \"method\": \"animate\"}, {\"args\": [[\"Norway\"], {\"frame\": {\"duration\": 0, \"redraw\": false}, \"fromcurrent\": true, \"mode\": \"immediate\", \"transition\": {\"duration\": 0, \"easing\": \"linear\"}}], \"label\": \"Norway\", \"method\": \"animate\"}, {\"args\": [[\"Poland\"], {\"frame\": {\"duration\": 0, \"redraw\": false}, \"fromcurrent\": true, \"mode\": \"immediate\", \"transition\": {\"duration\": 0, \"easing\": \"linear\"}}], \"label\": \"Poland\", \"method\": \"animate\"}, {\"args\": [[\"Portugal\"], {\"frame\": {\"duration\": 0, \"redraw\": false}, \"fromcurrent\": true, \"mode\": \"immediate\", \"transition\": {\"duration\": 0, \"easing\": \"linear\"}}], \"label\": \"Portugal\", \"method\": \"animate\"}, {\"args\": [[\"Slovak Republic\"], {\"frame\": {\"duration\": 0, \"redraw\": false}, \"fromcurrent\": true, \"mode\": \"immediate\", \"transition\": {\"duration\": 0, \"easing\": \"linear\"}}], \"label\": \"Slovak Republic\", \"method\": \"animate\"}, {\"args\": [[\"Spain\"], {\"frame\": {\"duration\": 0, \"redraw\": false}, \"fromcurrent\": true, \"mode\": \"immediate\", \"transition\": {\"duration\": 0, \"easing\": \"linear\"}}], \"label\": \"Spain\", \"method\": \"animate\"}, {\"args\": [[\"Sweden\"], {\"frame\": {\"duration\": 0, \"redraw\": false}, \"fromcurrent\": true, \"mode\": \"immediate\", \"transition\": {\"duration\": 0, \"easing\": \"linear\"}}], \"label\": \"Sweden\", \"method\": \"animate\"}, {\"args\": [[\"Turkey\"], {\"frame\": {\"duration\": 0, \"redraw\": false}, \"fromcurrent\": true, \"mode\": \"immediate\", \"transition\": {\"duration\": 0, \"easing\": \"linear\"}}], \"label\": \"Turkey\", \"method\": \"animate\"}, {\"args\": [[\"United Kingdom\"], {\"frame\": {\"duration\": 0, \"redraw\": false}, \"fromcurrent\": true, \"mode\": \"immediate\", \"transition\": {\"duration\": 0, \"easing\": \"linear\"}}], \"label\": \"United Kingdom\", \"method\": \"animate\"}, {\"args\": [[\"Chile\"], {\"frame\": {\"duration\": 0, \"redraw\": false}, \"fromcurrent\": true, \"mode\": \"immediate\", \"transition\": {\"duration\": 0, \"easing\": \"linear\"}}], \"label\": \"Chile\", \"method\": \"animate\"}, {\"args\": [[\"Estonia\"], {\"frame\": {\"duration\": 0, \"redraw\": false}, \"fromcurrent\": true, \"mode\": \"immediate\", \"transition\": {\"duration\": 0, \"easing\": \"linear\"}}], \"label\": \"Estonia\", \"method\": \"animate\"}, {\"args\": [[\"Slovenia\"], {\"frame\": {\"duration\": 0, \"redraw\": false}, \"fromcurrent\": true, \"mode\": \"immediate\", \"transition\": {\"duration\": 0, \"easing\": \"linear\"}}], \"label\": \"Slovenia\", \"method\": \"animate\"}, {\"args\": [[\"New Zealand\"], {\"frame\": {\"duration\": 0, \"redraw\": false}, \"fromcurrent\": true, \"mode\": \"immediate\", \"transition\": {\"duration\": 0, \"easing\": \"linear\"}}], \"label\": \"New Zealand\", \"method\": \"animate\"}, {\"args\": [[\"Switzerland\"], {\"frame\": {\"duration\": 0, \"redraw\": false}, \"fromcurrent\": true, \"mode\": \"immediate\", \"transition\": {\"duration\": 0, \"easing\": \"linear\"}}], \"label\": \"Switzerland\", \"method\": \"animate\"}, {\"args\": [[\"Colombia\"], {\"frame\": {\"duration\": 0, \"redraw\": false}, \"fromcurrent\": true, \"mode\": \"immediate\", \"transition\": {\"duration\": 0, \"easing\": \"linear\"}}], \"label\": \"Colombia\", \"method\": \"animate\"}, {\"args\": [[\"Latvia\"], {\"frame\": {\"duration\": 0, \"redraw\": false}, \"fromcurrent\": true, \"mode\": \"immediate\", \"transition\": {\"duration\": 0, \"easing\": \"linear\"}}], \"label\": \"Latvia\", \"method\": \"animate\"}, {\"args\": [[\"Costa Rica\"], {\"frame\": {\"duration\": 0, \"redraw\": false}, \"fromcurrent\": true, \"mode\": \"immediate\", \"transition\": {\"duration\": 0, \"easing\": \"linear\"}}], \"label\": \"Costa Rica\", \"method\": \"animate\"}, {\"args\": [[\"Lithuania\"], {\"frame\": {\"duration\": 0, \"redraw\": false}, \"fromcurrent\": true, \"mode\": \"immediate\", \"transition\": {\"duration\": 0, \"easing\": \"linear\"}}], \"label\": \"Lithuania\", \"method\": \"animate\"}, {\"args\": [[\"Brazil\"], {\"frame\": {\"duration\": 0, \"redraw\": false}, \"fromcurrent\": true, \"mode\": \"immediate\", \"transition\": {\"duration\": 0, \"easing\": \"linear\"}}], \"label\": \"Brazil\", \"method\": \"animate\"}], \"x\": 0.1, \"xanchor\": \"left\", \"y\": 0, \"yanchor\": \"top\"}], \"template\": {\"data\": {\"bar\": [{\"error_x\": {\"color\": \"#2a3f5f\"}, \"error_y\": {\"color\": \"#2a3f5f\"}, \"marker\": {\"line\": {\"color\": \"#E5ECF6\", \"width\": 0.5}}, \"type\": \"bar\"}], \"barpolar\": [{\"marker\": {\"line\": {\"color\": \"#E5ECF6\", \"width\": 0.5}}, \"type\": \"barpolar\"}], \"carpet\": [{\"aaxis\": {\"endlinecolor\": \"#2a3f5f\", \"gridcolor\": \"white\", \"linecolor\": \"white\", \"minorgridcolor\": \"white\", \"startlinecolor\": \"#2a3f5f\"}, \"baxis\": {\"endlinecolor\": \"#2a3f5f\", \"gridcolor\": \"white\", \"linecolor\": \"white\", \"minorgridcolor\": \"white\", \"startlinecolor\": \"#2a3f5f\"}, \"type\": \"carpet\"}], \"choropleth\": [{\"colorbar\": {\"outlinewidth\": 0, \"ticks\": \"\"}, \"type\": \"choropleth\"}], \"contour\": [{\"colorbar\": {\"outlinewidth\": 0, \"ticks\": \"\"}, \"colorscale\": [[0.0, \"#0d0887\"], [0.1111111111111111, \"#46039f\"], [0.2222222222222222, \"#7201a8\"], [0.3333333333333333, \"#9c179e\"], [0.4444444444444444, \"#bd3786\"], [0.5555555555555556, \"#d8576b\"], [0.6666666666666666, \"#ed7953\"], [0.7777777777777778, \"#fb9f3a\"], [0.8888888888888888, \"#fdca26\"], [1.0, \"#f0f921\"]], \"type\": \"contour\"}], \"contourcarpet\": [{\"colorbar\": {\"outlinewidth\": 0, \"ticks\": \"\"}, \"type\": \"contourcarpet\"}], \"heatmap\": [{\"colorbar\": {\"outlinewidth\": 0, \"ticks\": \"\"}, \"colorscale\": [[0.0, \"#0d0887\"], [0.1111111111111111, \"#46039f\"], [0.2222222222222222, \"#7201a8\"], [0.3333333333333333, \"#9c179e\"], [0.4444444444444444, \"#bd3786\"], [0.5555555555555556, \"#d8576b\"], [0.6666666666666666, \"#ed7953\"], [0.7777777777777778, \"#fb9f3a\"], [0.8888888888888888, \"#fdca26\"], [1.0, \"#f0f921\"]], \"type\": \"heatmap\"}], \"heatmapgl\": [{\"colorbar\": {\"outlinewidth\": 0, \"ticks\": \"\"}, \"colorscale\": [[0.0, \"#0d0887\"], [0.1111111111111111, \"#46039f\"], [0.2222222222222222, \"#7201a8\"], [0.3333333333333333, \"#9c179e\"], [0.4444444444444444, \"#bd3786\"], [0.5555555555555556, \"#d8576b\"], [0.6666666666666666, \"#ed7953\"], [0.7777777777777778, \"#fb9f3a\"], [0.8888888888888888, \"#fdca26\"], [1.0, \"#f0f921\"]], \"type\": \"heatmapgl\"}], \"histogram\": [{\"marker\": {\"colorbar\": {\"outlinewidth\": 0, \"ticks\": \"\"}}, \"type\": \"histogram\"}], \"histogram2d\": [{\"colorbar\": {\"outlinewidth\": 0, \"ticks\": \"\"}, \"colorscale\": [[0.0, \"#0d0887\"], [0.1111111111111111, \"#46039f\"], [0.2222222222222222, \"#7201a8\"], [0.3333333333333333, \"#9c179e\"], [0.4444444444444444, \"#bd3786\"], [0.5555555555555556, \"#d8576b\"], [0.6666666666666666, \"#ed7953\"], [0.7777777777777778, \"#fb9f3a\"], [0.8888888888888888, \"#fdca26\"], [1.0, \"#f0f921\"]], \"type\": \"histogram2d\"}], \"histogram2dcontour\": [{\"colorbar\": {\"outlinewidth\": 0, \"ticks\": \"\"}, \"colorscale\": [[0.0, \"#0d0887\"], [0.1111111111111111, \"#46039f\"], [0.2222222222222222, \"#7201a8\"], [0.3333333333333333, \"#9c179e\"], [0.4444444444444444, \"#bd3786\"], [0.5555555555555556, \"#d8576b\"], [0.6666666666666666, \"#ed7953\"], [0.7777777777777778, \"#fb9f3a\"], [0.8888888888888888, \"#fdca26\"], [1.0, \"#f0f921\"]], \"type\": \"histogram2dcontour\"}], \"mesh3d\": [{\"colorbar\": {\"outlinewidth\": 0, \"ticks\": \"\"}, \"type\": \"mesh3d\"}], \"parcoords\": [{\"line\": {\"colorbar\": {\"outlinewidth\": 0, \"ticks\": \"\"}}, \"type\": \"parcoords\"}], \"pie\": [{\"automargin\": true, \"type\": \"pie\"}], \"scatter\": [{\"marker\": {\"colorbar\": {\"outlinewidth\": 0, \"ticks\": \"\"}}, \"type\": \"scatter\"}], \"scatter3d\": [{\"line\": {\"colorbar\": {\"outlinewidth\": 0, \"ticks\": \"\"}}, \"marker\": {\"colorbar\": {\"outlinewidth\": 0, \"ticks\": \"\"}}, \"type\": \"scatter3d\"}], \"scattercarpet\": [{\"marker\": {\"colorbar\": {\"outlinewidth\": 0, \"ticks\": \"\"}}, \"type\": \"scattercarpet\"}], \"scattergeo\": [{\"marker\": {\"colorbar\": {\"outlinewidth\": 0, \"ticks\": \"\"}}, \"type\": \"scattergeo\"}], \"scattergl\": [{\"marker\": {\"colorbar\": {\"outlinewidth\": 0, \"ticks\": \"\"}}, \"type\": \"scattergl\"}], \"scattermapbox\": [{\"marker\": {\"colorbar\": {\"outlinewidth\": 0, \"ticks\": \"\"}}, \"type\": \"scattermapbox\"}], \"scatterpolar\": [{\"marker\": {\"colorbar\": {\"outlinewidth\": 0, \"ticks\": \"\"}}, \"type\": \"scatterpolar\"}], \"scatterpolargl\": [{\"marker\": {\"colorbar\": {\"outlinewidth\": 0, \"ticks\": \"\"}}, \"type\": \"scatterpolargl\"}], \"scatterternary\": [{\"marker\": {\"colorbar\": {\"outlinewidth\": 0, \"ticks\": \"\"}}, \"type\": \"scatterternary\"}], \"surface\": [{\"colorbar\": {\"outlinewidth\": 0, \"ticks\": \"\"}, \"colorscale\": [[0.0, \"#0d0887\"], [0.1111111111111111, \"#46039f\"], [0.2222222222222222, \"#7201a8\"], [0.3333333333333333, \"#9c179e\"], [0.4444444444444444, \"#bd3786\"], [0.5555555555555556, \"#d8576b\"], [0.6666666666666666, \"#ed7953\"], [0.7777777777777778, \"#fb9f3a\"], [0.8888888888888888, \"#fdca26\"], [1.0, \"#f0f921\"]], \"type\": \"surface\"}], \"table\": [{\"cells\": {\"fill\": {\"color\": \"#EBF0F8\"}, \"line\": {\"color\": \"white\"}}, \"header\": {\"fill\": {\"color\": \"#C8D4E3\"}, \"line\": {\"color\": \"white\"}}, \"type\": \"table\"}]}, \"layout\": {\"annotationdefaults\": {\"arrowcolor\": \"#2a3f5f\", \"arrowhead\": 0, \"arrowwidth\": 1}, \"coloraxis\": {\"colorbar\": {\"outlinewidth\": 0, \"ticks\": \"\"}}, \"colorscale\": {\"diverging\": [[0, \"#8e0152\"], [0.1, \"#c51b7d\"], [0.2, \"#de77ae\"], [0.3, \"#f1b6da\"], [0.4, \"#fde0ef\"], [0.5, \"#f7f7f7\"], [0.6, \"#e6f5d0\"], [0.7, \"#b8e186\"], [0.8, \"#7fbc41\"], [0.9, \"#4d9221\"], [1, \"#276419\"]], \"sequential\": [[0.0, \"#0d0887\"], [0.1111111111111111, \"#46039f\"], [0.2222222222222222, \"#7201a8\"], [0.3333333333333333, \"#9c179e\"], [0.4444444444444444, \"#bd3786\"], [0.5555555555555556, \"#d8576b\"], [0.6666666666666666, \"#ed7953\"], [0.7777777777777778, \"#fb9f3a\"], [0.8888888888888888, \"#fdca26\"], [1.0, \"#f0f921\"]], \"sequentialminus\": [[0.0, \"#0d0887\"], [0.1111111111111111, \"#46039f\"], [0.2222222222222222, \"#7201a8\"], [0.3333333333333333, \"#9c179e\"], [0.4444444444444444, \"#bd3786\"], [0.5555555555555556, \"#d8576b\"], [0.6666666666666666, \"#ed7953\"], [0.7777777777777778, \"#fb9f3a\"], [0.8888888888888888, \"#fdca26\"], [1.0, \"#f0f921\"]]}, \"colorway\": [\"#636efa\", \"#EF553B\", \"#00cc96\", \"#ab63fa\", \"#FFA15A\", \"#19d3f3\", \"#FF6692\", \"#B6E880\", \"#FF97FF\", \"#FECB52\"], \"font\": {\"color\": \"#2a3f5f\"}, \"geo\": {\"bgcolor\": \"white\", \"lakecolor\": \"white\", \"landcolor\": \"#E5ECF6\", \"showlakes\": true, \"showland\": true, \"subunitcolor\": \"white\"}, \"hoverlabel\": {\"align\": \"left\"}, \"hovermode\": \"closest\", \"mapbox\": {\"style\": \"light\"}, \"paper_bgcolor\": \"white\", \"plot_bgcolor\": \"#E5ECF6\", \"polar\": {\"angularaxis\": {\"gridcolor\": \"white\", \"linecolor\": \"white\", \"ticks\": \"\"}, \"bgcolor\": \"#E5ECF6\", \"radialaxis\": {\"gridcolor\": \"white\", \"linecolor\": \"white\", \"ticks\": \"\"}}, \"scene\": {\"xaxis\": {\"backgroundcolor\": \"#E5ECF6\", \"gridcolor\": \"white\", \"gridwidth\": 2, \"linecolor\": \"white\", \"showbackground\": true, \"ticks\": \"\", \"zerolinecolor\": \"white\"}, \"yaxis\": {\"backgroundcolor\": \"#E5ECF6\", \"gridcolor\": \"white\", \"gridwidth\": 2, \"linecolor\": \"white\", \"showbackground\": true, \"ticks\": \"\", \"zerolinecolor\": \"white\"}, \"zaxis\": {\"backgroundcolor\": \"#E5ECF6\", \"gridcolor\": \"white\", \"gridwidth\": 2, \"linecolor\": \"white\", \"showbackground\": true, \"ticks\": \"\", \"zerolinecolor\": \"white\"}}, \"shapedefaults\": {\"line\": {\"color\": \"#2a3f5f\"}}, \"ternary\": {\"aaxis\": {\"gridcolor\": \"white\", \"linecolor\": \"white\", \"ticks\": \"\"}, \"baxis\": {\"gridcolor\": \"white\", \"linecolor\": \"white\", \"ticks\": \"\"}, \"bgcolor\": \"#E5ECF6\", \"caxis\": {\"gridcolor\": \"white\", \"linecolor\": \"white\", \"ticks\": \"\"}}, \"title\": {\"x\": 0.05}, \"xaxis\": {\"automargin\": true, \"gridcolor\": \"white\", \"linecolor\": \"white\", \"ticks\": \"\", \"title\": {\"standoff\": 15}, \"zerolinecolor\": \"white\", \"zerolinewidth\": 2}, \"yaxis\": {\"automargin\": true, \"gridcolor\": \"white\", \"linecolor\": \"white\", \"ticks\": \"\", \"title\": {\"standoff\": 15}, \"zerolinecolor\": \"white\", \"zerolinewidth\": 2}}}, \"title\": {\"text\": \"Threatened species by group and by country (OECD)\"}, \"updatemenus\": [{\"buttons\": [{\"args\": [null, {\"frame\": {\"duration\": 500, \"redraw\": false}, \"fromcurrent\": true, \"mode\": \"immediate\", \"transition\": {\"duration\": 500, \"easing\": \"linear\"}}], \"label\": \"&#9654;\", \"method\": \"animate\"}, {\"args\": [[null], {\"frame\": {\"duration\": 0, \"redraw\": false}, \"fromcurrent\": true, \"mode\": \"immediate\", \"transition\": {\"duration\": 0, \"easing\": \"linear\"}}], \"label\": \"&#9724;\", \"method\": \"animate\"}], \"direction\": \"left\", \"pad\": {\"r\": 10, \"t\": 70}, \"showactive\": false, \"type\": \"buttons\", \"x\": 0.1, \"xanchor\": \"right\", \"y\": 0, \"yanchor\": \"top\"}], \"xaxis\": {\"anchor\": \"y\", \"domain\": [0.0, 1.0], \"title\": {\"text\": \"Groups\"}}, \"yaxis\": {\"anchor\": \"x\", \"domain\": [0.0, 1.0], \"range\": [0, 100], \"title\": {\"text\": \"Threatened species (%)\"}}},\n",
              "                        {\"responsive\": true}\n",
              "                    ).then(function(){\n",
              "                            Plotly.addFrames('d1667ef5-8136-4a5c-a2de-024470263ec6', [{\"data\": [{\"hoverlabel\": {\"namelength\": 0}, \"hovertemplate\": \"Country=Australia<br>Groups=%{x}<br>Threatened species (%)=%{y}<br>size=%{marker.size}<br>Intensity of the threat=%{marker.color}\", \"legendgroup\": \"\", \"marker\": {\"color\": [28.61, 17.092, 5.821000000000001, 15.612, 6.647, 0.945, 0.055999999999999994, 0.059000000000000004, 0.278, 9.6], \"coloraxis\": \"coloraxis\", \"size\": [28.61, 17.092, 5.821000000000001, 15.612, 6.647, 0.945, 0.055999999999999994, 0.059000000000000004, 0.278, 9.6], \"sizemode\": \"area\", \"sizeref\": 0.20238, \"symbol\": \"circle\"}, \"mode\": \"markers\", \"name\": \"\", \"showlegend\": false, \"x\": [\"Mammals\", \"Birds\", \"Reptiles\", \"Amphibians\", \"Vascular plants\", \"Fish\", \"Mosses\", \"Invertebrates\", \"Marine Fish\", \"Freshwater Fish\"], \"xaxis\": \"x\", \"y\": [28.61, 17.092, 5.821000000000001, 15.612, 6.647, 0.945, 0.055999999999999994, 0.059000000000000004, 0.278, 9.6], \"yaxis\": \"y\", \"type\": \"scatter\"}], \"name\": \"Australia\"}, {\"data\": [{\"hoverlabel\": {\"namelength\": 0}, \"hovertemplate\": \"Country=Austria<br>Groups=%{x}<br>Threatened species (%)=%{y}<br>size=%{marker.size}<br>Intensity of the threat=%{marker.color}\", \"legendgroup\": \"\", \"marker\": {\"color\": [26.733, 30.986, 64.286, 60.0, 33.39, 46.428999999999995, 46.428999999999995, 23.425, 21.095, 2.14], \"coloraxis\": \"coloraxis\", \"size\": [26.733, 30.986, 64.286, 60.0, 33.39, 46.428999999999995, 46.428999999999995, 23.425, 21.095, 2.14], \"sizemode\": \"area\", \"sizeref\": 0.20238, \"symbol\": \"circle\"}, \"mode\": \"markers\", \"name\": \"\", \"showlegend\": false, \"x\": [\"Mammals\", \"Birds\", \"Reptiles\", \"Amphibians\", \"Vascular plants\", \"Fish\", \"Freshwater Fish\", \"Mosses\", \"Lichens\", \"Invertebrates\"], \"xaxis\": \"x\", \"y\": [26.733, 30.986, 64.286, 60.0, 33.39, 46.428999999999995, 46.428999999999995, 23.425, 21.095, 2.14], \"yaxis\": \"y\", \"type\": \"scatter\"}], \"name\": \"Austria\"}, {\"data\": [{\"hoverlabel\": {\"namelength\": 0}, \"hovertemplate\": \"Country=Belgium<br>Groups=%{x}<br>Threatened species (%)=%{y}<br>size=%{marker.size}<br>Intensity of the threat=%{marker.color}\", \"legendgroup\": \"\", \"marker\": {\"color\": [21.429000000000002, 27.778000000000002, 40.0, 31.579, 23.267, 20.423, 14.140999999999998, 34.884, 26.871, 59.068999999999996, 10.806], \"coloraxis\": \"coloraxis\", \"size\": [21.429000000000002, 27.778000000000002, 40.0, 31.579, 23.267, 20.423, 14.140999999999998, 34.884, 26.871, 59.068999999999996, 10.806], \"sizemode\": \"area\", \"sizeref\": 0.20238, \"symbol\": \"circle\"}, \"mode\": \"markers\", \"name\": \"\", \"showlegend\": false, \"x\": [\"Mammals\", \"Birds\", \"Reptiles\", \"Amphibians\", \"Vascular plants\", \"Fish\", \"Marine Fish\", \"Freshwater Fish\", \"Mosses\", \"Lichens\", \"Invertebrates\"], \"xaxis\": \"x\", \"y\": [21.429000000000002, 27.778000000000002, 40.0, 31.579, 23.267, 20.423, 14.140999999999998, 34.884, 26.871, 59.068999999999996, 10.806], \"yaxis\": \"y\", \"type\": \"scatter\"}], \"name\": \"Belgium\"}, {\"data\": [{\"hoverlabel\": {\"namelength\": 0}, \"hovertemplate\": \"Country=Canada<br>Groups=%{x}<br>Threatened species (%)=%{y}<br>size=%{marker.size}<br>Intensity of the threat=%{marker.color}\", \"legendgroup\": \"\", \"marker\": {\"color\": [23.529, 13.056, 57.778, 34.043, 21.35, 6.395, 4.294, 21.818, 21.413, 21.47, 6.345], \"coloraxis\": \"coloraxis\", \"size\": [23.529, 13.056, 57.778, 34.043, 21.35, 6.395, 4.294, 21.818, 21.413, 21.47, 6.345], \"sizemode\": \"area\", \"sizeref\": 0.20238, \"symbol\": \"circle\"}, \"mode\": \"markers\", \"name\": \"\", \"showlegend\": false, \"x\": [\"Mammals\", \"Birds\", \"Reptiles\", \"Amphibians\", \"Vascular plants\", \"Fish\", \"Marine Fish\", \"Freshwater Fish\", \"Mosses\", \"Lichens\", \"Invertebrates\"], \"xaxis\": \"x\", \"y\": [23.529, 13.056, 57.778, 34.043, 21.35, 6.395, 4.294, 21.818, 21.413, 21.47, 6.345], \"yaxis\": \"y\", \"type\": \"scatter\"}], \"name\": \"Canada\"}, {\"data\": [{\"hoverlabel\": {\"namelength\": 0}, \"hovertemplate\": \"Country=Czech Republic<br>Groups=%{x}<br>Threatened species (%)=%{y}<br>size=%{marker.size}<br>Intensity of the threat=%{marker.color}\", \"legendgroup\": \"\", \"marker\": {\"color\": [16.304000000000002, 43.498000000000005, 58.333, 71.429, 53.556000000000004, 42.373000000000005, 42.373000000000005, 28.139, 37.287, 10.151], \"coloraxis\": \"coloraxis\", \"size\": [16.304000000000002, 43.498000000000005, 58.333, 71.429, 53.556000000000004, 42.373000000000005, 42.373000000000005, 28.139, 37.287, 10.151], \"sizemode\": \"area\", \"sizeref\": 0.20238, \"symbol\": \"circle\"}, \"mode\": \"markers\", \"name\": \"\", \"showlegend\": false, \"x\": [\"Mammals\", \"Birds\", \"Reptiles\", \"Amphibians\", \"Vascular plants\", \"Fish\", \"Freshwater Fish\", \"Mosses\", \"Lichens\", \"Invertebrates\"], \"xaxis\": \"x\", \"y\": [16.304000000000002, 43.498000000000005, 58.333, 71.429, 53.556000000000004, 42.373000000000005, 42.373000000000005, 28.139, 37.287, 10.151], \"yaxis\": \"y\", \"type\": \"scatter\"}], \"name\": \"Czech Republic\"}, {\"data\": [{\"hoverlabel\": {\"namelength\": 0}, \"hovertemplate\": \"Country=Denmark<br>Groups=%{x}<br>Threatened species (%)=%{y}<br>size=%{marker.size}<br>Intensity of the threat=%{marker.color}\", \"legendgroup\": \"\", \"marker\": {\"color\": [16.418, 16.268, 6.667000000000001, 4.022, 14.545, 44.231, 14.044], \"coloraxis\": \"coloraxis\", \"size\": [16.418, 16.268, 6.667000000000001, 4.022, 14.545, 44.231, 14.044], \"sizemode\": \"area\", \"sizeref\": 0.20238, \"symbol\": \"circle\"}, \"mode\": \"markers\", \"name\": \"\", \"showlegend\": false, \"x\": [\"Mammals\", \"Birds\", \"Amphibians\", \"Vascular plants\", \"Freshwater Fish\", \"Lichens\", \"Invertebrates\"], \"xaxis\": \"x\", \"y\": [16.418, 16.268, 6.667000000000001, 4.022, 14.545, 44.231, 14.044], \"yaxis\": \"y\", \"type\": \"scatter\"}], \"name\": \"Denmark\"}, {\"data\": [{\"hoverlabel\": {\"namelength\": 0}, \"hovertemplate\": \"Country=Finland<br>Groups=%{x}<br>Threatened species (%)=%{y}<br>size=%{marker.size}<br>Intensity of the threat=%{marker.color}\", \"legendgroup\": \"\", \"marker\": {\"color\": [9.333, 35.080999999999996, 20.0, 14.286, 15.887, 17.391, 20.516, 16.813, 5.24], \"coloraxis\": \"coloraxis\", \"size\": [9.333, 35.080999999999996, 20.0, 14.286, 15.887, 17.391, 20.516, 16.813, 5.24], \"sizemode\": \"area\", \"sizeref\": 0.20238, \"symbol\": \"circle\"}, \"mode\": \"markers\", \"name\": \"\", \"showlegend\": false, \"x\": [\"Mammals\", \"Birds\", \"Reptiles\", \"Amphibians\", \"Vascular plants\", \"Freshwater Fish\", \"Mosses\", \"Lichens\", \"Invertebrates\"], \"xaxis\": \"x\", \"y\": [9.333, 35.080999999999996, 20.0, 14.286, 15.887, 17.391, 20.516, 16.813, 5.24], \"yaxis\": \"y\", \"type\": \"scatter\"}], \"name\": \"Finland\"}, {\"data\": [{\"hoverlabel\": {\"namelength\": 0}, \"hovertemplate\": \"Country=France<br>Groups=%{x}<br>Threatened species (%)=%{y}<br>size=%{marker.size}<br>Intensity of the threat=%{marker.color}\", \"legendgroup\": \"\", \"marker\": {\"color\": [13.6, 27.366, 23.684, 22.857, 18.75, 8.45, 15.950999999999999, 20.66], \"coloraxis\": \"coloraxis\", \"size\": [13.6, 27.366, 23.684, 22.857, 18.75, 8.45, 15.950999999999999, 20.66], \"sizemode\": \"area\", \"sizeref\": 0.20238, \"symbol\": \"circle\"}, \"mode\": \"markers\", \"name\": \"\", \"showlegend\": false, \"x\": [\"Mammals\", \"Birds\", \"Reptiles\", \"Amphibians\", \"Freshwater Fish\", \"Vascular plants\", \"Fish\", \"Invertebrates\"], \"xaxis\": \"x\", \"y\": [13.6, 27.366, 23.684, 22.857, 18.75, 8.45, 15.950999999999999, 20.66], \"yaxis\": \"y\", \"type\": \"scatter\"}], \"name\": \"France\"}, {\"data\": [{\"hoverlabel\": {\"namelength\": 0}, \"hovertemplate\": \"Country=Germany<br>Groups=%{x}<br>Threatened species (%)=%{y}<br>size=%{marker.size}<br>Intensity of the threat=%{marker.color}\", \"legendgroup\": \"\", \"marker\": {\"color\": [34.409, 35.606, 61.538000000000004, 36.364000000000004, 27.384, 30.108, 26.344, 22.581, 40.946, 51.672, 36.593], \"coloraxis\": \"coloraxis\", \"size\": [34.409, 35.606, 61.538000000000004, 36.364000000000004, 27.384, 30.108, 26.344, 22.581, 40.946, 51.672, 36.593], \"sizemode\": \"area\", \"sizeref\": 0.20238, \"symbol\": \"circle\"}, \"mode\": \"markers\", \"name\": \"\", \"showlegend\": false, \"x\": [\"Mammals\", \"Birds\", \"Reptiles\", \"Amphibians\", \"Vascular plants\", \"Freshwater Fish\", \"Fish\", \"Marine Fish\", \"Mosses\", \"Lichens\", \"Invertebrates\"], \"xaxis\": \"x\", \"y\": [34.409, 35.606, 61.538000000000004, 36.364000000000004, 27.384, 30.108, 26.344, 22.581, 40.946, 51.672, 36.593], \"yaxis\": \"y\", \"type\": \"scatter\"}], \"name\": \"Germany\"}, {\"data\": [{\"hoverlabel\": {\"namelength\": 0}, \"hovertemplate\": \"Country=Greece<br>Groups=%{x}<br>Threatened species (%)=%{y}<br>size=%{marker.size}<br>Intensity of the threat=%{marker.color}\", \"legendgroup\": \"\", \"marker\": {\"color\": [25.217, 14.091, 13.636, 26.087, 4.359, 9.474, 2.74, 31.818], \"coloraxis\": \"coloraxis\", \"size\": [25.217, 14.091, 13.636, 26.087, 4.359, 9.474, 2.74, 31.818], \"sizemode\": \"area\", \"sizeref\": 0.20238, \"symbol\": \"circle\"}, \"mode\": \"markers\", \"name\": \"\", \"showlegend\": false, \"x\": [\"Mammals\", \"Birds\", \"Reptiles\", \"Amphibians\", \"Vascular plants\", \"Fish\", \"Marine Fish\", \"Freshwater Fish\"], \"xaxis\": \"x\", \"y\": [25.217, 14.091, 13.636, 26.087, 4.359, 9.474, 2.74, 31.818], \"yaxis\": \"y\", \"type\": \"scatter\"}], \"name\": \"Greece\"}, {\"data\": [{\"hoverlabel\": {\"namelength\": 0}, \"hovertemplate\": \"Country=Hungary<br>Groups=%{x}<br>Threatened species (%)=%{y}<br>size=%{marker.size}<br>Intensity of the threat=%{marker.color}\", \"legendgroup\": \"\", \"marker\": {\"color\": [16.092, 17.930999999999997, 26.666999999999998, 11.110999999999999, 14.039000000000001, 43.21, 43.21, 26.252, 15.804, 27.586], \"coloraxis\": \"coloraxis\", \"size\": [16.092, 17.930999999999997, 26.666999999999998, 11.110999999999999, 14.039000000000001, 43.21, 43.21, 26.252, 15.804, 27.586], \"sizemode\": \"area\", \"sizeref\": 0.20238, \"symbol\": \"circle\"}, \"mode\": \"markers\", \"name\": \"\", \"showlegend\": false, \"x\": [\"Mammals\", \"Birds\", \"Reptiles\", \"Amphibians\", \"Vascular plants\", \"Fish\", \"Freshwater Fish\", \"Mosses\", \"Lichens\", \"Invertebrates\"], \"xaxis\": \"x\", \"y\": [16.092, 17.930999999999997, 26.666999999999998, 11.110999999999999, 14.039000000000001, 43.21, 43.21, 26.252, 15.804, 27.586], \"yaxis\": \"y\", \"type\": \"scatter\"}], \"name\": \"Hungary\"}, {\"data\": [{\"hoverlabel\": {\"namelength\": 0}, \"hovertemplate\": \"Country=Iceland<br>Groups=%{x}<br>Threatened species (%)=%{y}<br>size=%{marker.size}<br>Intensity of the threat=%{marker.color}\", \"legendgroup\": \"\", \"marker\": {\"color\": [44.0, 11.872], \"coloraxis\": \"coloraxis\", \"size\": [44.0, 11.872], \"sizemode\": \"area\", \"sizeref\": 0.20238, \"symbol\": \"circle\"}, \"mode\": \"markers\", \"name\": \"\", \"showlegend\": false, \"x\": [\"Birds\", \"Vascular plants\"], \"xaxis\": \"x\", \"y\": [44.0, 11.872], \"yaxis\": \"y\", \"type\": \"scatter\"}], \"name\": \"Iceland\"}, {\"data\": [{\"hoverlabel\": {\"namelength\": 0}, \"hovertemplate\": \"Country=Ireland<br>Groups=%{x}<br>Threatened species (%)=%{y}<br>size=%{marker.size}<br>Intensity of the threat=%{marker.color}\", \"legendgroup\": \"\", \"marker\": {\"color\": [1.754, 26.569000000000003, 0.0, 33.333, 9.619, 17.857, 18.96, 14.669, 4.521], \"coloraxis\": \"coloraxis\", \"size\": [1.754, 26.569000000000003, 0.0, 33.333, 9.619, 17.857, 18.96, 14.669, 4.521], \"sizemode\": \"area\", \"sizeref\": 0.20238, \"symbol\": \"circle\"}, \"mode\": \"markers\", \"name\": \"\", \"showlegend\": false, \"x\": [\"Mammals\", \"Birds\", \"Reptiles\", \"Amphibians\", \"Vascular plants\", \"Freshwater Fish\", \"Mosses\", \"Invertebrates\", \"Marine Fish\"], \"xaxis\": \"x\", \"y\": [1.754, 26.569000000000003, 0.0, 33.333, 9.619, 17.857, 18.96, 14.669, 4.521], \"yaxis\": \"y\", \"type\": \"scatter\"}], \"name\": \"Ireland\"}, {\"data\": [{\"hoverlabel\": {\"namelength\": 0}, \"hovertemplate\": \"Country=Italy<br>Groups=%{x}<br>Threatened species (%)=%{y}<br>size=%{marker.size}<br>Intensity of the threat=%{marker.color}\", \"legendgroup\": \"\", \"marker\": {\"color\": [18.254, 24.101, 19.643, 31.818, 6.747999999999999, 25.773000000000003, 7.332000000000001, 4.044, 0.778, 20.274, 5.6579999999999995], \"coloraxis\": \"coloraxis\", \"size\": [18.254, 24.101, 19.643, 31.818, 6.747999999999999, 25.773000000000003, 7.332000000000001, 4.044, 0.778, 20.274, 5.6579999999999995], \"sizemode\": \"area\", \"sizeref\": 0.20238, \"symbol\": \"circle\"}, \"mode\": \"markers\", \"name\": \"\", \"showlegend\": false, \"x\": [\"Mammals\", \"Birds\", \"Reptiles\", \"Amphibians\", \"Vascular plants\", \"Freshwater Fish\", \"Fish\", \"Marine Fish\", \"Invertebrates\", \"Mosses\", \"Lichens\"], \"xaxis\": \"x\", \"y\": [18.254, 24.101, 19.643, 31.818, 6.747999999999999, 25.773000000000003, 7.332000000000001, 4.044, 0.778, 20.274, 5.6579999999999995], \"yaxis\": \"y\", \"type\": \"scatter\"}], \"name\": \"Italy\"}, {\"data\": [{\"hoverlabel\": {\"namelength\": 0}, \"hovertemplate\": \"Country=Japan<br>Groups=%{x}<br>Threatened species (%)=%{y}<br>size=%{marker.size}<br>Intensity of the threat=%{marker.color}\", \"legendgroup\": \"\", \"marker\": {\"color\": [20.625, 14.0, 37.0, 38.158, 25.514, 42.25, 13.389000000000001, 3.813, 1.226, 4.302, 0.41], \"coloraxis\": \"coloraxis\", \"size\": [20.625, 14.0, 37.0, 38.158, 25.514, 42.25, 13.389000000000001, 3.813, 1.226, 4.302, 0.41], \"sizemode\": \"area\", \"sizeref\": 0.20238, \"symbol\": \"circle\"}, \"mode\": \"markers\", \"name\": \"\", \"showlegend\": false, \"x\": [\"Mammals\", \"Birds\", \"Reptiles\", \"Amphibians\", \"Vascular plants\", \"Freshwater Fish\", \"Mosses\", \"Lichens\", \"Invertebrates\", \"Fish\", \"Marine Fish\"], \"xaxis\": \"x\", \"y\": [20.625, 14.0, 37.0, 38.158, 25.514, 42.25, 13.389000000000001, 3.813, 1.226, 4.302, 0.41], \"yaxis\": \"y\", \"type\": \"scatter\"}], \"name\": \"Japan\"}, {\"data\": [{\"hoverlabel\": {\"namelength\": 0}, \"hovertemplate\": \"Country=Korea<br>Groups=%{x}<br>Threatened species (%)=%{y}<br>size=%{marker.size}<br>Intensity of the threat=%{marker.color}\", \"legendgroup\": \"\", \"marker\": {\"color\": [11.2, 10.436, 15.625, 25.0, 4.958, 2.031, 12.870999999999999, 0.769], \"coloraxis\": \"coloraxis\", \"size\": [11.2, 10.436, 15.625, 25.0, 4.958, 2.031, 12.870999999999999, 0.769], \"sizemode\": \"area\", \"sizeref\": 0.20238, \"symbol\": \"circle\"}, \"mode\": \"markers\", \"name\": \"\", \"showlegend\": false, \"x\": [\"Mammals\", \"Birds\", \"Reptiles\", \"Amphibians\", \"Vascular plants\", \"Fish\", \"Freshwater Fish\", \"Invertebrates\"], \"xaxis\": \"x\", \"y\": [11.2, 10.436, 15.625, 25.0, 4.958, 2.031, 12.870999999999999, 0.769], \"yaxis\": \"y\", \"type\": \"scatter\"}], \"name\": \"Korea\"}, {\"data\": [{\"hoverlabel\": {\"namelength\": 0}, \"hovertemplate\": \"Country=Luxembourg<br>Groups=%{x}<br>Threatened species (%)=%{y}<br>size=%{marker.size}<br>Intensity of the threat=%{marker.color}\", \"legendgroup\": \"\", \"marker\": {\"color\": [19.847, 33.333, 28.570999999999998, 26.756999999999998, 27.906999999999996, 27.906999999999996, 15.436], \"coloraxis\": \"coloraxis\", \"size\": [19.847, 33.333, 28.570999999999998, 26.756999999999998, 27.906999999999996, 27.906999999999996, 15.436], \"sizemode\": \"area\", \"sizeref\": 0.20238, \"symbol\": \"circle\"}, \"mode\": \"markers\", \"name\": \"\", \"showlegend\": false, \"x\": [\"Birds\", \"Reptiles\", \"Amphibians\", \"Vascular plants\", \"Fish\", \"Freshwater Fish\", \"Invertebrates\"], \"xaxis\": \"x\", \"y\": [19.847, 33.333, 28.570999999999998, 26.756999999999998, 27.906999999999996, 27.906999999999996, 15.436], \"yaxis\": \"y\", \"type\": \"scatter\"}], \"name\": \"Luxembourg\"}, {\"data\": [{\"hoverlabel\": {\"namelength\": 0}, \"hovertemplate\": \"Country=Mexico<br>Groups=%{x}<br>Threatened species (%)=%{y}<br>size=%{marker.size}<br>Intensity of the threat=%{marker.color}\", \"legendgroup\": \"\", \"marker\": {\"color\": [26.773000000000003, 20.859, 17.314, 12.349, 2.189, 6.297999999999999, 30.693], \"coloraxis\": \"coloraxis\", \"size\": [26.773000000000003, 20.859, 17.314, 12.349, 2.189, 6.297999999999999, 30.693], \"sizemode\": \"area\", \"sizeref\": 0.20238, \"symbol\": \"circle\"}, \"mode\": \"markers\", \"name\": \"\", \"showlegend\": false, \"x\": [\"Mammals\", \"Birds\", \"Reptiles\", \"Amphibians\", \"Vascular plants\", \"Fish\", \"Freshwater Fish\"], \"xaxis\": \"x\", \"y\": [26.773000000000003, 20.859, 17.314, 12.349, 2.189, 6.297999999999999, 30.693], \"yaxis\": \"y\", \"type\": \"scatter\"}], \"name\": \"Mexico\"}, {\"data\": [{\"hoverlabel\": {\"namelength\": 0}, \"hovertemplate\": \"Country=Netherlands<br>Groups=%{x}<br>Threatened species (%)=%{y}<br>size=%{marker.size}<br>Intensity of the threat=%{marker.color}\", \"legendgroup\": \"\", \"marker\": {\"color\": [20.755, 24.4, 71.429, 43.75, 25.52, 23.711, 17.544, 32.5, 23.598000000000003, 22.84, 31.953000000000003], \"coloraxis\": \"coloraxis\", \"size\": [20.755, 24.4, 71.429, 43.75, 25.52, 23.711, 17.544, 32.5, 23.598000000000003, 22.84, 31.953000000000003], \"sizemode\": \"area\", \"sizeref\": 0.20238, \"symbol\": \"circle\"}, \"mode\": \"markers\", \"name\": \"\", \"showlegend\": false, \"x\": [\"Mammals\", \"Birds\", \"Reptiles\", \"Amphibians\", \"Vascular plants\", \"Fish\", \"Marine Fish\", \"Freshwater Fish\", \"Mosses\", \"Lichens\", \"Invertebrates\"], \"xaxis\": \"x\", \"y\": [20.755, 24.4, 71.429, 43.75, 25.52, 23.711, 17.544, 32.5, 23.598000000000003, 22.84, 31.953000000000003], \"yaxis\": \"y\", \"type\": \"scatter\"}], \"name\": \"Netherlands\"}, {\"data\": [{\"hoverlabel\": {\"namelength\": 0}, \"hovertemplate\": \"Country=Norway<br>Groups=%{x}<br>Threatened species (%)=%{y}<br>size=%{marker.size}<br>Intensity of the threat=%{marker.color}\", \"legendgroup\": \"\", \"marker\": {\"color\": [19.101, 17.424, 16.667, 7.586, 2.244, 2.5180000000000002, 13.088, 10.679, 6.979], \"coloraxis\": \"coloraxis\", \"size\": [19.101, 17.424, 16.667, 7.586, 2.244, 2.5180000000000002, 13.088, 10.679, 6.979], \"sizemode\": \"area\", \"sizeref\": 0.20238, \"symbol\": \"circle\"}, \"mode\": \"markers\", \"name\": \"\", \"showlegend\": false, \"x\": [\"Mammals\", \"Birds\", \"Amphibians\", \"Vascular plants\", \"Fish\", \"Marine Fish\", \"Mosses\", \"Lichens\", \"Invertebrates\"], \"xaxis\": \"x\", \"y\": [19.101, 17.424, 16.667, 7.586, 2.244, 2.5180000000000002, 13.088, 10.679, 6.979], \"yaxis\": \"y\", \"type\": \"scatter\"}], \"name\": \"Norway\"}, {\"data\": [{\"hoverlabel\": {\"namelength\": 0}, \"hovertemplate\": \"Country=Poland<br>Groups=%{x}<br>Threatened species (%)=%{y}<br>size=%{marker.size}<br>Intensity of the threat=%{marker.color}\", \"legendgroup\": \"\", \"marker\": {\"color\": [11.712, 7.64, 27.273000000000003, 15.578, 19.840999999999998, 5.556, 22.078000000000003, 11.823, 32.04, 3.1910000000000003], \"coloraxis\": \"coloraxis\", \"size\": [11.712, 7.64, 27.273000000000003, 15.578, 19.840999999999998, 5.556, 22.078000000000003, 11.823, 32.04, 3.1910000000000003], \"sizemode\": \"area\", \"sizeref\": 0.20238, \"symbol\": \"circle\"}, \"mode\": \"markers\", \"name\": \"\", \"showlegend\": false, \"x\": [\"Mammals\", \"Birds\", \"Reptiles\", \"Vascular plants\", \"Fish\", \"Marine Fish\", \"Freshwater Fish\", \"Mosses\", \"Lichens\", \"Invertebrates\"], \"xaxis\": \"x\", \"y\": [11.712, 7.64, 27.273000000000003, 15.578, 19.840999999999998, 5.556, 22.078000000000003, 11.823, 32.04, 3.1910000000000003], \"yaxis\": \"y\", \"type\": \"scatter\"}], \"name\": \"Poland\"}, {\"data\": [{\"hoverlabel\": {\"namelength\": 0}, \"hovertemplate\": \"Country=Portugal<br>Groups=%{x}<br>Threatened species (%)=%{y}<br>size=%{marker.size}<br>Intensity of the threat=%{marker.color}\", \"legendgroup\": \"\", \"marker\": {\"color\": [19.62, 28.244, 20.408, 10.0, 33.846], \"coloraxis\": \"coloraxis\", \"size\": [19.62, 28.244, 20.408, 10.0, 33.846], \"sizemode\": \"area\", \"sizeref\": 0.20238, \"symbol\": \"circle\"}, \"mode\": \"markers\", \"name\": \"\", \"showlegend\": false, \"x\": [\"Mammals\", \"Birds\", \"Reptiles\", \"Amphibians\", \"Fish\"], \"xaxis\": \"x\", \"y\": [19.62, 28.244, 20.408, 10.0, 33.846], \"yaxis\": \"y\", \"type\": \"scatter\"}], \"name\": \"Portugal\"}, {\"data\": [{\"hoverlabel\": {\"namelength\": 0}, \"hovertemplate\": \"Country=Slovak Republic<br>Groups=%{x}<br>Threatened species (%)=%{y}<br>size=%{marker.size}<br>Intensity of the threat=%{marker.color}\", \"legendgroup\": \"\", \"marker\": {\"color\": [22.221999999999998, 24.171, 41.667, 44.443999999999996, 14.562000000000001, 15.19, 34.213, 23.674, 6.5920000000000005], \"coloraxis\": \"coloraxis\", \"size\": [22.221999999999998, 24.171, 41.667, 44.443999999999996, 14.562000000000001, 15.19, 34.213, 23.674, 6.5920000000000005], \"sizemode\": \"area\", \"sizeref\": 0.20238, \"symbol\": \"circle\"}, \"mode\": \"markers\", \"name\": \"\", \"showlegend\": false, \"x\": [\"Mammals\", \"Birds\", \"Reptiles\", \"Amphibians\", \"Vascular plants\", \"Freshwater Fish\", \"Mosses\", \"Lichens\", \"Invertebrates\"], \"xaxis\": \"x\", \"y\": [22.221999999999998, 24.171, 41.667, 44.443999999999996, 14.562000000000001, 15.19, 34.213, 23.674, 6.5920000000000005], \"yaxis\": \"y\", \"type\": \"scatter\"}], \"name\": \"Slovak Republic\"}, {\"data\": [{\"hoverlabel\": {\"namelength\": 0}, \"hovertemplate\": \"Country=Spain<br>Groups=%{x}<br>Threatened species (%)=%{y}<br>size=%{marker.size}<br>Intensity of the threat=%{marker.color}\", \"legendgroup\": \"\", \"marker\": {\"color\": [15.924000000000001, 11.744000000000002, 20.651999999999997, 25.0, 12.03, 3.733, 23.545, 0.667], \"coloraxis\": \"coloraxis\", \"size\": [15.924000000000001, 11.744000000000002, 20.651999999999997, 25.0, 12.03, 3.733, 23.545, 0.667], \"sizemode\": \"area\", \"sizeref\": 0.20238, \"symbol\": \"circle\"}, \"mode\": \"markers\", \"name\": \"\", \"showlegend\": false, \"x\": [\"Mammals\", \"Birds\", \"Reptiles\", \"Amphibians\", \"Vascular plants\", \"Freshwater Fish\", \"Mosses\", \"Marine Fish\"], \"xaxis\": \"x\", \"y\": [15.924000000000001, 11.744000000000002, 20.651999999999997, 25.0, 12.03, 3.733, 23.545, 0.667], \"yaxis\": \"y\", \"type\": \"scatter\"}], \"name\": \"Spain\"}, {\"data\": [{\"hoverlabel\": {\"namelength\": 0}, \"hovertemplate\": \"Country=Sweden<br>Groups=%{x}<br>Threatened species (%)=%{y}<br>size=%{marker.size}<br>Intensity of the threat=%{marker.color}\", \"legendgroup\": \"\", \"marker\": {\"color\": [21.538, 20.233, 33.333, 38.461999999999996, 17.297, 14.184000000000001, 19.0, 4.762], \"coloraxis\": \"coloraxis\", \"size\": [21.538, 20.233, 33.333, 38.461999999999996, 17.297, 14.184000000000001, 19.0, 4.762], \"sizemode\": \"area\", \"sizeref\": 0.20238, \"symbol\": \"circle\"}, \"mode\": \"markers\", \"name\": \"\", \"showlegend\": false, \"x\": [\"Mammals\", \"Birds\", \"Reptiles\", \"Amphibians\", \"Vascular plants\", \"Fish\", \"Marine Fish\", \"Freshwater Fish\"], \"xaxis\": \"x\", \"y\": [21.538, 20.233, 33.333, 38.461999999999996, 17.297, 14.184000000000001, 19.0, 4.762], \"yaxis\": \"y\", \"type\": \"scatter\"}], \"name\": \"Sweden\"}, {\"data\": [{\"hoverlabel\": {\"namelength\": 0}, \"hovertemplate\": \"Country=Turkey<br>Groups=%{x}<br>Threatened species (%)=%{y}<br>size=%{marker.size}<br>Intensity of the threat=%{marker.color}\", \"legendgroup\": \"\", \"marker\": {\"color\": [14.286, 3.696, 7.0920000000000005, 10.950999999999999, 0.431], \"coloraxis\": \"coloraxis\", \"size\": [14.286, 3.696, 7.0920000000000005, 10.950999999999999, 0.431], \"sizemode\": \"area\", \"sizeref\": 0.20238, \"symbol\": \"circle\"}, \"mode\": \"markers\", \"name\": \"\", \"showlegend\": false, \"x\": [\"Mammals\", \"Birds\", \"Amphibians\", \"Vascular plants\", \"Invertebrates\"], \"xaxis\": \"x\", \"y\": [14.286, 3.696, 7.0920000000000005, 10.950999999999999, 0.431], \"yaxis\": \"y\", \"type\": \"scatter\"}], \"name\": \"Turkey\"}, {\"data\": [{\"hoverlabel\": {\"namelength\": 0}, \"hovertemplate\": \"Country=United Kingdom<br>Groups=%{x}<br>Threatened species (%)=%{y}<br>size=%{marker.size}<br>Intensity of the threat=%{marker.color}\", \"legendgroup\": \"\", \"marker\": {\"color\": [18.105999999999998, 11.11, 21.864, 6.609, 2.478, 15.28], \"coloraxis\": \"coloraxis\", \"size\": [18.105999999999998, 11.11, 21.864, 6.609, 2.478, 15.28], \"sizemode\": \"area\", \"sizeref\": 0.20238, \"symbol\": \"circle\"}, \"mode\": \"markers\", \"name\": \"\", \"showlegend\": false, \"x\": [\"Vascular plants\", \"Mammals\", \"Birds\", \"Lichens\", \"Invertebrates\", \"Mosses\"], \"xaxis\": \"x\", \"y\": [18.105999999999998, 11.11, 21.864, 6.609, 2.478, 15.28], \"yaxis\": \"y\", \"type\": \"scatter\"}], \"name\": \"United Kingdom\"}, {\"data\": [{\"hoverlabel\": {\"namelength\": 0}, \"hovertemplate\": \"Country=Chile<br>Groups=%{x}<br>Threatened species (%)=%{y}<br>size=%{marker.size}<br>Intensity of the threat=%{marker.color}\", \"legendgroup\": \"\", \"marker\": {\"color\": [19.459, 9.02, 41.935, 67.692, 5.414, 0.7609999999999999, 0.18899999999999997], \"coloraxis\": \"coloraxis\", \"size\": [19.459, 9.02, 41.935, 67.692, 5.414, 0.7609999999999999, 0.18899999999999997], \"sizemode\": \"area\", \"sizeref\": 0.20238, \"symbol\": \"circle\"}, \"mode\": \"markers\", \"name\": \"\", \"showlegend\": false, \"x\": [\"Mammals\", \"Birds\", \"Reptiles\", \"Amphibians\", \"Vascular plants\", \"Invertebrates\", \"Mosses\"], \"xaxis\": \"x\", \"y\": [19.459, 9.02, 41.935, 67.692, 5.414, 0.7609999999999999, 0.18899999999999997], \"yaxis\": \"y\", \"type\": \"scatter\"}], \"name\": \"Chile\"}, {\"data\": [{\"hoverlabel\": {\"namelength\": 0}, \"hovertemplate\": \"Country=Estonia<br>Groups=%{x}<br>Threatened species (%)=%{y}<br>size=%{marker.size}<br>Intensity of the threat=%{marker.color}\", \"legendgroup\": \"\", \"marker\": {\"color\": [4.545, 40.598, 40.0, 27.273000000000003, 10.134, 8.738, 6.061, 16.667, 26.589000000000002, 32.554, 1.213], \"coloraxis\": \"coloraxis\", \"size\": [4.545, 40.598, 40.0, 27.273000000000003, 10.134, 8.738, 6.061, 16.667, 26.589000000000002, 32.554, 1.213], \"sizemode\": \"area\", \"sizeref\": 0.20238, \"symbol\": \"circle\"}, \"mode\": \"markers\", \"name\": \"\", \"showlegend\": false, \"x\": [\"Mammals\", \"Birds\", \"Reptiles\", \"Amphibians\", \"Vascular plants\", \"Fish\", \"Marine Fish\", \"Freshwater Fish\", \"Mosses\", \"Lichens\", \"Invertebrates\"], \"xaxis\": \"x\", \"y\": [4.545, 40.598, 40.0, 27.273000000000003, 10.134, 8.738, 6.061, 16.667, 26.589000000000002, 32.554, 1.213], \"yaxis\": \"y\", \"type\": \"scatter\"}], \"name\": \"Estonia\"}, {\"data\": [{\"hoverlabel\": {\"namelength\": 0}, \"hovertemplate\": \"Country=Slovenia<br>Groups=%{x}<br>Threatened species (%)=%{y}<br>size=%{marker.size}<br>Intensity of the threat=%{marker.color}\", \"legendgroup\": \"\", \"marker\": {\"color\": [38.202, 27.631999999999998, 75.0, 80.952, 9.676, 18.315, 5.319, 47.059], \"coloraxis\": \"coloraxis\", \"size\": [38.202, 27.631999999999998, 75.0, 80.952, 9.676, 18.315, 5.319, 47.059], \"sizemode\": \"area\", \"sizeref\": 0.20238, \"symbol\": \"circle\"}, \"mode\": \"markers\", \"name\": \"\", \"showlegend\": false, \"x\": [\"Mammals\", \"Birds\", \"Reptiles\", \"Amphibians\", \"Vascular plants\", \"Fish\", \"Marine Fish\", \"Freshwater Fish\"], \"xaxis\": \"x\", \"y\": [38.202, 27.631999999999998, 75.0, 80.952, 9.676, 18.315, 5.319, 47.059], \"yaxis\": \"y\", \"type\": \"scatter\"}], \"name\": \"Slovenia\"}, {\"data\": [{\"hoverlabel\": {\"namelength\": 0}, \"hovertemplate\": \"Country=New Zealand<br>Groups=%{x}<br>Threatened species (%)=%{y}<br>size=%{marker.size}<br>Intensity of the threat=%{marker.color}\", \"legendgroup\": \"\", \"marker\": {\"color\": [0.8059999999999999], \"coloraxis\": \"coloraxis\", \"size\": [0.8059999999999999], \"sizemode\": \"area\", \"sizeref\": 0.20238, \"symbol\": \"circle\"}, \"mode\": \"markers\", \"name\": \"\", \"showlegend\": false, \"x\": [\"Invertebrates\"], \"xaxis\": \"x\", \"y\": [0.8059999999999999], \"yaxis\": \"y\", \"type\": \"scatter\"}], \"name\": \"New Zealand\"}, {\"data\": [{\"hoverlabel\": {\"namelength\": 0}, \"hovertemplate\": \"Country=Switzerland<br>Groups=%{x}<br>Threatened species (%)=%{y}<br>size=%{marker.size}<br>Intensity of the threat=%{marker.color}\", \"legendgroup\": \"\", \"marker\": {\"color\": [36.559, 34.634, 78.947, 68.421, 25.641, 34.286, 34.286, 40.260999999999996, 36.045, 34.052], \"coloraxis\": \"coloraxis\", \"size\": [36.559, 34.634, 78.947, 68.421, 25.641, 34.286, 34.286, 40.260999999999996, 36.045, 34.052], \"sizemode\": \"area\", \"sizeref\": 0.20238, \"symbol\": \"circle\"}, \"mode\": \"markers\", \"name\": \"\", \"showlegend\": false, \"x\": [\"Mammals\", \"Birds\", \"Reptiles\", \"Amphibians\", \"Vascular plants\", \"Fish\", \"Freshwater Fish\", \"Mosses\", \"Lichens\", \"Invertebrates\"], \"xaxis\": \"x\", \"y\": [36.559, 34.634, 78.947, 68.421, 25.641, 34.286, 34.286, 40.260999999999996, 36.045, 34.052], \"yaxis\": \"y\", \"type\": \"scatter\"}], \"name\": \"Switzerland\"}, {\"data\": [{\"hoverlabel\": {\"namelength\": 0}, \"hovertemplate\": \"Country=Colombia<br>Groups=%{x}<br>Threatened species (%)=%{y}<br>size=%{marker.size}<br>Intensity of the threat=%{marker.color}\", \"legendgroup\": \"\", \"marker\": {\"color\": [8.015, 7.334, 6.962000000000001, 6.651, 2.927, 2.662, 0.465, 3.353, 2.445, 0.8909999999999999, 0.0], \"coloraxis\": \"coloraxis\", \"size\": [8.015, 7.334, 6.962000000000001, 6.651, 2.927, 2.662, 0.465, 3.353, 2.445, 0.8909999999999999, 0.0], \"sizemode\": \"area\", \"sizeref\": 0.20238, \"symbol\": \"circle\"}, \"mode\": \"markers\", \"name\": \"\", \"showlegend\": false, \"x\": [\"Mammals\", \"Birds\", \"Reptiles\", \"Amphibians\", \"Vascular plants\", \"Fish\", \"Marine Fish\", \"Freshwater Fish\", \"Mosses\", \"Invertebrates\", \"Lichens\"], \"xaxis\": \"x\", \"y\": [8.015, 7.334, 6.962000000000001, 6.651, 2.927, 2.662, 0.465, 3.353, 2.445, 0.8909999999999999, 0.0], \"yaxis\": \"y\", \"type\": \"scatter\"}], \"name\": \"Colombia\"}, {\"data\": [{\"hoverlabel\": {\"namelength\": 0}, \"hovertemplate\": \"Country=Latvia<br>Groups=%{x}<br>Threatened species (%)=%{y}<br>size=%{marker.size}<br>Intensity of the threat=%{marker.color}\", \"legendgroup\": \"\", \"marker\": {\"color\": [8.065, 16.738, 28.570999999999998, 30.769000000000002, 10.79, 2.299, 2.381, 2.222, 10.892999999999999, 3.4930000000000003, 0.462], \"coloraxis\": \"coloraxis\", \"size\": [8.065, 16.738, 28.570999999999998, 30.769000000000002, 10.79, 2.299, 2.381, 2.222, 10.892999999999999, 3.4930000000000003, 0.462], \"sizemode\": \"area\", \"sizeref\": 0.20238, \"symbol\": \"circle\"}, \"mode\": \"markers\", \"name\": \"\", \"showlegend\": false, \"x\": [\"Mammals\", \"Birds\", \"Reptiles\", \"Amphibians\", \"Vascular plants\", \"Fish\", \"Marine Fish\", \"Freshwater Fish\", \"Mosses\", \"Lichens\", \"Invertebrates\"], \"xaxis\": \"x\", \"y\": [8.065, 16.738, 28.570999999999998, 30.769000000000002, 10.79, 2.299, 2.381, 2.222, 10.892999999999999, 3.4930000000000003, 0.462], \"yaxis\": \"y\", \"type\": \"scatter\"}], \"name\": \"Latvia\"}, {\"data\": [{\"hoverlabel\": {\"namelength\": 0}, \"hovertemplate\": \"Country=Costa Rica<br>Groups=%{x}<br>Threatened species (%)=%{y}<br>size=%{marker.size}<br>Intensity of the threat=%{marker.color}\", \"legendgroup\": \"\", \"marker\": {\"color\": [4.846, 2.9210000000000003, 6.936, 32.275, 28.773000000000003, 3.7510000000000003, 50.0, 7.69], \"coloraxis\": \"coloraxis\", \"size\": [4.846, 2.9210000000000003, 6.936, 32.275, 28.773000000000003, 3.7510000000000003, 50.0, 7.69], \"sizemode\": \"area\", \"sizeref\": 0.20238, \"symbol\": \"circle\"}, \"mode\": \"markers\", \"name\": \"\", \"showlegend\": false, \"x\": [\"Mammals\", \"Birds\", \"Reptiles\", \"Amphibians\", \"Vascular plants\", \"Fish\", \"Mosses\", \"Invertebrates\"], \"xaxis\": \"x\", \"y\": [4.846, 2.9210000000000003, 6.936, 32.275, 28.773000000000003, 3.7510000000000003, 50.0, 7.69], \"yaxis\": \"y\", \"type\": \"scatter\"}], \"name\": \"Costa Rica\"}, {\"data\": [{\"hoverlabel\": {\"namelength\": 0}, \"hovertemplate\": \"Country=Lithuania<br>Groups=%{x}<br>Threatened species (%)=%{y}<br>size=%{marker.size}<br>Intensity of the threat=%{marker.color}\", \"legendgroup\": \"\", \"marker\": {\"color\": [10.294, 14.395999999999999, 28.570999999999998, 9.745, 4.762, 1.9609999999999999, 10.213, 17.2, 0.35600000000000004, 15.385, 7.407], \"coloraxis\": \"coloraxis\", \"size\": [10.294, 14.395999999999999, 28.570999999999998, 9.745, 4.762, 1.9609999999999999, 10.213, 17.2, 0.35600000000000004, 15.385, 7.407], \"sizemode\": \"area\", \"sizeref\": 0.20238, \"symbol\": \"circle\"}, \"mode\": \"markers\", \"name\": \"\", \"showlegend\": false, \"x\": [\"Mammals\", \"Birds\", \"Reptiles\", \"Vascular plants\", \"Fish\", \"Marine Fish\", \"Mosses\", \"Lichens\", \"Invertebrates\", \"Amphibians\", \"Freshwater Fish\"], \"xaxis\": \"x\", \"y\": [10.294, 14.395999999999999, 28.570999999999998, 9.745, 4.762, 1.9609999999999999, 10.213, 17.2, 0.35600000000000004, 15.385, 7.407], \"yaxis\": \"y\", \"type\": \"scatter\"}], \"name\": \"Lithuania\"}, {\"data\": [{\"hoverlabel\": {\"namelength\": 0}, \"hovertemplate\": \"Country=Brazil<br>Groups=%{x}<br>Threatened species (%)=%{y}<br>size=%{marker.size}<br>Intensity of the threat=%{marker.color}\", \"legendgroup\": \"\", \"marker\": {\"color\": [4.333], \"coloraxis\": \"coloraxis\", \"size\": [4.333], \"sizemode\": \"area\", \"sizeref\": 0.20238, \"symbol\": \"circle\"}, \"mode\": \"markers\", \"name\": \"\", \"showlegend\": false, \"x\": [\"Amphibians\"], \"xaxis\": \"x\", \"y\": [4.333], \"yaxis\": \"y\", \"type\": \"scatter\"}], \"name\": \"Brazil\"}]);\n",
              "                        }).then(function(){\n",
              "                            \n",
              "var gd = document.getElementById('d1667ef5-8136-4a5c-a2de-024470263ec6');\n",
              "var x = new MutationObserver(function (mutations, observer) {{\n",
              "        var display = window.getComputedStyle(gd).display;\n",
              "        if (!display || display === 'none') {{\n",
              "            console.log([gd, 'removed!']);\n",
              "            Plotly.purge(gd);\n",
              "            observer.disconnect();\n",
              "        }}\n",
              "}});\n",
              "\n",
              "// Listen for the removal of the full notebook cells\n",
              "var notebookContainer = gd.closest('#notebook-container');\n",
              "if (notebookContainer) {{\n",
              "    x.observe(notebookContainer, {childList: true});\n",
              "}}\n",
              "\n",
              "// Listen for the clearing of the current output cell\n",
              "var outputEl = gd.closest('.output');\n",
              "if (outputEl) {{\n",
              "    x.observe(outputEl, {childList: true});\n",
              "}}\n",
              "\n",
              "                        })\n",
              "                };\n",
              "                \n",
              "            </script>\n",
              "        </div>\n",
              "</body>\n",
              "</html>"
            ]
          },
          "metadata": {
            "tags": []
          }
        }
      ]
    }
  ]
}